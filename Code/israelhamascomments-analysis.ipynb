{
 "cells": [
  {
   "cell_type": "code",
   "execution_count": 2,
   "metadata": {
    "execution": {
     "iopub.execute_input": "2023-10-28T18:37:56.591872Z",
     "iopub.status.busy": "2023-10-28T18:37:56.591376Z",
     "iopub.status.idle": "2023-10-28T18:38:05.410349Z",
     "shell.execute_reply": "2023-10-28T18:38:05.409165Z",
     "shell.execute_reply.started": "2023-10-28T18:37:56.591828Z"
    }
   },
   "outputs": [],
   "source": [
    "import warnings\n",
    "warnings.filterwarnings(\"ignore\")\n",
    "import seaborn as sns\n",
    "import pandas as pd\n",
    "import numpy as np\n",
    "import re\n",
    "import nltk\n",
    "from nltk.corpus import stopwords\n",
    "import torch\n",
    "from transformers import AutoTokenizer, AutoModelForSequenceClassification\n",
    "import matplotlib.pyplot as plt\n",
    "\n",
    "\n",
    "from PIL import Image\n",
    "from nltk.sentiment import SentimentIntensityAnalyzer\n",
    "from sklearn.ensemble import RandomForestClassifier\n",
    "from sklearn.linear_model import LogisticRegression\n",
    "from sklearn.model_selection import cross_val_score, GridSearchCV, cross_validate\n",
    "from sklearn.preprocessing import LabelEncoder\n",
    "from textblob import Word, TextBlob\n",
    "from wordcloud import WordCloud\n",
    "\n",
    "%matplotlib inline\n",
    "plt.rcParams['font.size'] = 14\n",
    "plt.rcParams['figure.figsize'] = (22, 5)\n",
    "plt.rcParams['figure.dpi'] = 100"
   ]
  },
  {
   "cell_type": "code",
   "execution_count": 3,
   "metadata": {
    "execution": {
     "iopub.execute_input": "2023-10-28T18:38:05.412776Z",
     "iopub.status.busy": "2023-10-28T18:38:05.412247Z",
     "iopub.status.idle": "2023-10-28T18:38:05.423912Z",
     "shell.execute_reply": "2023-10-28T18:38:05.422690Z",
     "shell.execute_reply.started": "2023-10-28T18:38:05.412743Z"
    }
   },
   "outputs": [],
   "source": [
    "PLOT_COLORS = [\"#268bd2\", \"#0052CC\", \"#FF5722\", \"#b58900\", \"#003f5c\"]\n",
    "pd.options.display.float_format = '{:.2f}'.format\n",
    "sns.set(style=\"ticks\")\n",
    "plt.rc('figure', figsize=(8, 5), dpi=100)\n",
    "plt.rc('axes', labelpad=20, facecolor=\"#ffffff\", linewidth=0.4, grid=True, labelsize=14)\n",
    "plt.rc('patch', linewidth=0)\n",
    "plt.rc('xtick.major', width=0.2)\n",
    "plt.rc('ytick.major', width=0.2)\n",
    "plt.rc('grid', color='#9E9E9E', linewidth=0.4)\n",
    "plt.rc('font', family='Arial', weight='400', size=10)\n",
    "plt.rc('text', color='#282828')\n",
    "plt.rc('savefig', pad_inches=0.3, dpi=300)"
   ]
  },
  {
   "cell_type": "code",
   "execution_count": 4,
   "metadata": {
    "execution": {
     "iopub.execute_input": "2023-10-28T18:38:05.426132Z",
     "iopub.status.busy": "2023-10-28T18:38:05.425715Z",
     "iopub.status.idle": "2023-10-28T18:38:12.981710Z",
     "shell.execute_reply": "2023-10-28T18:38:12.980718Z",
     "shell.execute_reply.started": "2023-10-28T18:38:05.426092Z"
    }
   },
   "outputs": [],
   "source": [
    "df = pd.read_csv('../working/video_comments_fake_video_28102023.csv')\n",
    "df_wcom = pd.read_csv('../working/video_without_comments_fake_video_28102023.csv')"
   ]
  },
  {
   "cell_type": "code",
   "execution_count": 5,
   "metadata": {
    "execution": {
     "iopub.execute_input": "2023-10-28T18:38:12.984283Z",
     "iopub.status.busy": "2023-10-28T18:38:12.983726Z",
     "iopub.status.idle": "2023-10-28T18:38:12.991254Z",
     "shell.execute_reply": "2023-10-28T18:38:12.990311Z",
     "shell.execute_reply.started": "2023-10-28T18:38:12.984251Z"
    }
   },
   "outputs": [
    {
     "data": {
      "text/plain": [
       "((85228, 31), (87, 24))"
      ]
     },
     "execution_count": 5,
     "metadata": {},
     "output_type": "execute_result"
    }
   ],
   "source": [
    "df.shape, df_wcom.shape"
   ]
  },
  {
   "cell_type": "code",
   "execution_count": 10,
   "metadata": {
    "execution": {
     "iopub.execute_input": "2023-10-28T17:52:10.418111Z",
     "iopub.status.busy": "2023-10-28T17:52:10.417717Z",
     "iopub.status.idle": "2023-10-28T17:52:10.455889Z",
     "shell.execute_reply": "2023-10-28T17:52:10.454766Z",
     "shell.execute_reply.started": "2023-10-28T17:52:10.418081Z"
    }
   },
   "outputs": [
    {
     "data": {
      "text/html": [
       "<div>\n",
       "<style scoped>\n",
       "    .dataframe tbody tr th:only-of-type {\n",
       "        vertical-align: middle;\n",
       "    }\n",
       "\n",
       "    .dataframe tbody tr th {\n",
       "        vertical-align: top;\n",
       "    }\n",
       "\n",
       "    .dataframe thead th {\n",
       "        text-align: right;\n",
       "    }\n",
       "</style>\n",
       "<table border=\"1\" class=\"dataframe\">\n",
       "  <thead>\n",
       "    <tr style=\"text-align: right;\">\n",
       "      <th></th>\n",
       "      <th>News_ID</th>\n",
       "      <th>publish_date</th>\n",
       "      <th>Link</th>\n",
       "      <th>source_name</th>\n",
       "      <th>title</th>\n",
       "      <th>text</th>\n",
       "      <th>youtube_link</th>\n",
       "      <th>news_language</th>\n",
       "      <th>label</th>\n",
       "      <th>all_link</th>\n",
       "      <th>...</th>\n",
       "      <th>video_length</th>\n",
       "      <th>video_channel_id</th>\n",
       "      <th>video_channel_url</th>\n",
       "      <th>video_description</th>\n",
       "      <th>video_publish_date</th>\n",
       "      <th>video_rating</th>\n",
       "      <th>video_thumbnail_url</th>\n",
       "      <th>video_views</th>\n",
       "      <th>video_age_restricted</th>\n",
       "      <th>target_label</th>\n",
       "    </tr>\n",
       "  </thead>\n",
       "  <tbody>\n",
       "    <tr>\n",
       "      <th>0</th>\n",
       "      <td>gfc_9</td>\n",
       "      <td>2023-10-27 00:00:00+00:00</td>\n",
       "      <td>https://factly.in/old-unrelated-are-being-shar...</td>\n",
       "      <td>FACTLY</td>\n",
       "      <td>old &amp; unrelated are being shared as us militar...</td>\n",
       "      <td>a social media post featuring a video displayi...</td>\n",
       "      <td>https://www.youtube.com/watch?v=JDpawoSVi-M</td>\n",
       "      <td>en</td>\n",
       "      <td>MISLEADING</td>\n",
       "      <td>NaN</td>\n",
       "      <td>...</td>\n",
       "      <td>600.00</td>\n",
       "      <td>UCfMBT2axMq0jhZI5OA6paVg</td>\n",
       "      <td>https://www.youtube.com/channel/UCfMBT2axMq0jh...</td>\n",
       "      <td>NaN</td>\n",
       "      <td>2023-10-21 00:00:00</td>\n",
       "      <td>NaN</td>\n",
       "      <td>https://i.ytimg.com/vi/JDpawoSVi-M/hqdefault.j...</td>\n",
       "      <td>6.00</td>\n",
       "      <td>False</td>\n",
       "      <td>fake</td>\n",
       "    </tr>\n",
       "    <tr>\n",
       "      <th>1</th>\n",
       "      <td>gfc_9</td>\n",
       "      <td>2023-10-27 00:00:00+00:00</td>\n",
       "      <td>https://factly.in/old-unrelated-are-being-shar...</td>\n",
       "      <td>FACTLY</td>\n",
       "      <td>old &amp; unrelated are being shared as us militar...</td>\n",
       "      <td>a social media post featuring a video displayi...</td>\n",
       "      <td>https://www.youtube.com/watch?v=l7hhZjq_J60</td>\n",
       "      <td>en</td>\n",
       "      <td>MISLEADING</td>\n",
       "      <td>NaN</td>\n",
       "      <td>...</td>\n",
       "      <td>NaN</td>\n",
       "      <td>NaN</td>\n",
       "      <td>https://www.youtube.com/channel/None</td>\n",
       "      <td>NaN</td>\n",
       "      <td>NaN</td>\n",
       "      <td>NaN</td>\n",
       "      <td>https://img.youtube.com/vi/l7hhZjq_J60/maxresd...</td>\n",
       "      <td>NaN</td>\n",
       "      <td>NaN</td>\n",
       "      <td>fake</td>\n",
       "    </tr>\n",
       "    <tr>\n",
       "      <th>2</th>\n",
       "      <td>gfc_20</td>\n",
       "      <td>2023-10-27 00:00:00+00:00</td>\n",
       "      <td>https://dpa-factchecking.com/belgium/231026-99...</td>\n",
       "      <td>dpa</td>\n",
       "      <td>recycled footage from a drone on an aircraft c...</td>\n",
       "      <td>since the attack by the islamist movement hama...</td>\n",
       "      <td>https://www.youtube.com/watch?v=B6bDVhRNw00</td>\n",
       "      <td>fr</td>\n",
       "      <td>La vidéo en question compile des images montra...</td>\n",
       "      <td>NaN</td>\n",
       "      <td>...</td>\n",
       "      <td>30.00</td>\n",
       "      <td>UCKuSaHewQKWjR2wFuqfkMEA</td>\n",
       "      <td>https://www.youtube.com/channel/UCKuSaHewQKWjR...</td>\n",
       "      <td>NaN</td>\n",
       "      <td>2011-02-07 00:00:00</td>\n",
       "      <td>NaN</td>\n",
       "      <td>https://i.ytimg.com/vi/B6bDVhRNw00/hqdefault.j...</td>\n",
       "      <td>817.00</td>\n",
       "      <td>False</td>\n",
       "      <td>fake</td>\n",
       "    </tr>\n",
       "    <tr>\n",
       "      <th>3</th>\n",
       "      <td>gfc_22</td>\n",
       "      <td>2023-10-27 00:00:00+00:00</td>\n",
       "      <td>https://dpa-factchecking.com/netherlands/23102...</td>\n",
       "      <td>dpa</td>\n",
       "      <td>brandstichting at the politiebureau in bahrain...</td>\n",
       "      <td>volgens reports on telegram and facebook from ...</td>\n",
       "      <td>https://www.youtube.com/watch?v=YHENeJB5QsA</td>\n",
       "      <td>de</td>\n",
       "      <td>De bewering is fout. In de video wordt een pol...</td>\n",
       "      <td>NaN</td>\n",
       "      <td>...</td>\n",
       "      <td>NaN</td>\n",
       "      <td>NaN</td>\n",
       "      <td>https://www.youtube.com/channel/None</td>\n",
       "      <td>NaN</td>\n",
       "      <td>NaN</td>\n",
       "      <td>NaN</td>\n",
       "      <td>https://img.youtube.com/vi/YHENeJB5QsA/maxresd...</td>\n",
       "      <td>NaN</td>\n",
       "      <td>NaN</td>\n",
       "      <td>fake</td>\n",
       "    </tr>\n",
       "    <tr>\n",
       "      <th>4</th>\n",
       "      <td>gfc_23</td>\n",
       "      <td>2023-10-27 00:00:00+00:00</td>\n",
       "      <td>https://verafiles.org/articles/vera-files-fact...</td>\n",
       "      <td>Vera Files</td>\n",
       "      <td>vera files fact check: ‘bato’ dela rosa contra...</td>\n",
       "      <td>in a phone interview with senate reporters on ...</td>\n",
       "      <td>https://www.youtube.com/watch?v=qtkKg_TjqZk</td>\n",
       "      <td>en</td>\n",
       "      <td>False</td>\n",
       "      <td>NaN</td>\n",
       "      <td>...</td>\n",
       "      <td>1888.00</td>\n",
       "      <td>UC46YJ9p0d6MSUXRZFRZrwGQ</td>\n",
       "      <td>https://www.youtube.com/channel/UC46YJ9p0d6MSU...</td>\n",
       "      <td>NaN</td>\n",
       "      <td>2017-11-29 00:00:00</td>\n",
       "      <td>NaN</td>\n",
       "      <td>https://i.ytimg.com/vi/qtkKg_TjqZk/hq720.jpg</td>\n",
       "      <td>4322.00</td>\n",
       "      <td>False</td>\n",
       "      <td>fake</td>\n",
       "    </tr>\n",
       "  </tbody>\n",
       "</table>\n",
       "<p>5 rows × 24 columns</p>\n",
       "</div>"
      ],
      "text/plain": [
       "  News_ID               publish_date  \\\n",
       "0   gfc_9  2023-10-27 00:00:00+00:00   \n",
       "1   gfc_9  2023-10-27 00:00:00+00:00   \n",
       "2  gfc_20  2023-10-27 00:00:00+00:00   \n",
       "3  gfc_22  2023-10-27 00:00:00+00:00   \n",
       "4  gfc_23  2023-10-27 00:00:00+00:00   \n",
       "\n",
       "                                                Link source_name  \\\n",
       "0  https://factly.in/old-unrelated-are-being-shar...      FACTLY   \n",
       "1  https://factly.in/old-unrelated-are-being-shar...      FACTLY   \n",
       "2  https://dpa-factchecking.com/belgium/231026-99...         dpa   \n",
       "3  https://dpa-factchecking.com/netherlands/23102...         dpa   \n",
       "4  https://verafiles.org/articles/vera-files-fact...  Vera Files   \n",
       "\n",
       "                                               title  \\\n",
       "0  old & unrelated are being shared as us militar...   \n",
       "1  old & unrelated are being shared as us militar...   \n",
       "2  recycled footage from a drone on an aircraft c...   \n",
       "3  brandstichting at the politiebureau in bahrain...   \n",
       "4  vera files fact check: ‘bato’ dela rosa contra...   \n",
       "\n",
       "                                                text  \\\n",
       "0  a social media post featuring a video displayi...   \n",
       "1  a social media post featuring a video displayi...   \n",
       "2  since the attack by the islamist movement hama...   \n",
       "3  volgens reports on telegram and facebook from ...   \n",
       "4  in a phone interview with senate reporters on ...   \n",
       "\n",
       "                                  youtube_link news_language  \\\n",
       "0  https://www.youtube.com/watch?v=JDpawoSVi-M            en   \n",
       "1  https://www.youtube.com/watch?v=l7hhZjq_J60            en   \n",
       "2  https://www.youtube.com/watch?v=B6bDVhRNw00            fr   \n",
       "3  https://www.youtube.com/watch?v=YHENeJB5QsA            de   \n",
       "4  https://www.youtube.com/watch?v=qtkKg_TjqZk            en   \n",
       "\n",
       "                                               label all_link  ...  \\\n",
       "0                                         MISLEADING      NaN  ...   \n",
       "1                                         MISLEADING      NaN  ...   \n",
       "2  La vidéo en question compile des images montra...      NaN  ...   \n",
       "3  De bewering is fout. In de video wordt een pol...      NaN  ...   \n",
       "4                                              False      NaN  ...   \n",
       "\n",
       "  video_length          video_channel_id  \\\n",
       "0       600.00  UCfMBT2axMq0jhZI5OA6paVg   \n",
       "1          NaN                       NaN   \n",
       "2        30.00  UCKuSaHewQKWjR2wFuqfkMEA   \n",
       "3          NaN                       NaN   \n",
       "4      1888.00  UC46YJ9p0d6MSUXRZFRZrwGQ   \n",
       "\n",
       "                                   video_channel_url video_description  \\\n",
       "0  https://www.youtube.com/channel/UCfMBT2axMq0jh...               NaN   \n",
       "1               https://www.youtube.com/channel/None               NaN   \n",
       "2  https://www.youtube.com/channel/UCKuSaHewQKWjR...               NaN   \n",
       "3               https://www.youtube.com/channel/None               NaN   \n",
       "4  https://www.youtube.com/channel/UC46YJ9p0d6MSU...               NaN   \n",
       "\n",
       "    video_publish_date video_rating  \\\n",
       "0  2023-10-21 00:00:00          NaN   \n",
       "1                  NaN          NaN   \n",
       "2  2011-02-07 00:00:00          NaN   \n",
       "3                  NaN          NaN   \n",
       "4  2017-11-29 00:00:00          NaN   \n",
       "\n",
       "                                 video_thumbnail_url  video_views  \\\n",
       "0  https://i.ytimg.com/vi/JDpawoSVi-M/hqdefault.j...         6.00   \n",
       "1  https://img.youtube.com/vi/l7hhZjq_J60/maxresd...          NaN   \n",
       "2  https://i.ytimg.com/vi/B6bDVhRNw00/hqdefault.j...       817.00   \n",
       "3  https://img.youtube.com/vi/YHENeJB5QsA/maxresd...          NaN   \n",
       "4       https://i.ytimg.com/vi/qtkKg_TjqZk/hq720.jpg      4322.00   \n",
       "\n",
       "  video_age_restricted  target_label  \n",
       "0                False          fake  \n",
       "1                  NaN          fake  \n",
       "2                False          fake  \n",
       "3                  NaN          fake  \n",
       "4                False          fake  \n",
       "\n",
       "[5 rows x 24 columns]"
      ]
     },
     "execution_count": 10,
     "metadata": {},
     "output_type": "execute_result"
    }
   ],
   "source": [
    "df_wcom.head()"
   ]
  },
  {
   "cell_type": "code",
   "execution_count": 11,
   "metadata": {
    "execution": {
     "iopub.execute_input": "2023-10-28T17:52:21.290771Z",
     "iopub.status.busy": "2023-10-28T17:52:21.289948Z",
     "iopub.status.idle": "2023-10-28T17:52:21.317389Z",
     "shell.execute_reply": "2023-10-28T17:52:21.316087Z",
     "shell.execute_reply.started": "2023-10-28T17:52:21.290725Z"
    }
   },
   "outputs": [
    {
     "data": {
      "text/html": [
       "<div>\n",
       "<style scoped>\n",
       "    .dataframe tbody tr th:only-of-type {\n",
       "        vertical-align: middle;\n",
       "    }\n",
       "\n",
       "    .dataframe tbody tr th {\n",
       "        vertical-align: top;\n",
       "    }\n",
       "\n",
       "    .dataframe thead th {\n",
       "        text-align: right;\n",
       "    }\n",
       "</style>\n",
       "<table border=\"1\" class=\"dataframe\">\n",
       "  <thead>\n",
       "    <tr style=\"text-align: right;\">\n",
       "      <th></th>\n",
       "      <th>News_ID</th>\n",
       "      <th>publish_date</th>\n",
       "      <th>Link</th>\n",
       "      <th>source_name</th>\n",
       "      <th>title</th>\n",
       "      <th>text</th>\n",
       "      <th>youtube_link</th>\n",
       "      <th>news_language</th>\n",
       "      <th>label</th>\n",
       "      <th>all_link</th>\n",
       "      <th>...</th>\n",
       "      <th>video_views</th>\n",
       "      <th>video_age_restricted</th>\n",
       "      <th>CommentsData</th>\n",
       "      <th>commentText</th>\n",
       "      <th>replycount</th>\n",
       "      <th>publishedAt</th>\n",
       "      <th>likeCount</th>\n",
       "      <th>authorDisplayName</th>\n",
       "      <th>commentText_processed</th>\n",
       "      <th>comment_language</th>\n",
       "    </tr>\n",
       "  </thead>\n",
       "  <tbody>\n",
       "    <tr>\n",
       "      <th>0</th>\n",
       "      <td>gfc_2</td>\n",
       "      <td>2023-10-27 00:00:00+00:00</td>\n",
       "      <td>https://factnameh.com/fa/fact-checks/2023-10-2...</td>\n",
       "      <td>فکت‌نامه</td>\n",
       "      <td>golda meir and the palestinian passport</td>\n",
       "      <td>طی هفته‌های اخیر با بالا گرفتن جنگ حماس و اسرا...</td>\n",
       "      <td>https://www.youtube.com/watch?v=w3FGvAMvYpc</td>\n",
       "      <td>fa</td>\n",
       "      <td>گمراه‌کننده</td>\n",
       "      <td>NaN</td>\n",
       "      <td>...</td>\n",
       "      <td>302463.00</td>\n",
       "      <td>False</td>\n",
       "      <td>Every single word she said was wisely thought ...</td>\n",
       "      <td>Every single word she said was wisely thought ...</td>\n",
       "      <td>2.00</td>\n",
       "      <td>2023-05-20T23:58:29Z</td>\n",
       "      <td>107.00</td>\n",
       "      <td>Sebastian Peretz</td>\n",
       "      <td>NaN</td>\n",
       "      <td>NaN</td>\n",
       "    </tr>\n",
       "    <tr>\n",
       "      <th>1</th>\n",
       "      <td>gfc_2</td>\n",
       "      <td>2023-10-27 00:00:00+00:00</td>\n",
       "      <td>https://factnameh.com/fa/fact-checks/2023-10-2...</td>\n",
       "      <td>فکت‌نامه</td>\n",
       "      <td>golda meir and the palestinian passport</td>\n",
       "      <td>طی هفته‌های اخیر با بالا گرفتن جنگ حماس و اسرا...</td>\n",
       "      <td>https://www.youtube.com/watch?v=w3FGvAMvYpc</td>\n",
       "      <td>fa</td>\n",
       "      <td>گمراه‌کننده</td>\n",
       "      <td>NaN</td>\n",
       "      <td>...</td>\n",
       "      <td>302463.00</td>\n",
       "      <td>False</td>\n",
       "      <td>Spoke three languages fluently with no detecta...</td>\n",
       "      <td>Spoke three languages fluently with no detecta...</td>\n",
       "      <td>31.00</td>\n",
       "      <td>2023-01-10T22:27:12Z</td>\n",
       "      <td>157.00</td>\n",
       "      <td>sure why not</td>\n",
       "      <td>NaN</td>\n",
       "      <td>NaN</td>\n",
       "    </tr>\n",
       "    <tr>\n",
       "      <th>2</th>\n",
       "      <td>gfc_2</td>\n",
       "      <td>2023-10-27 00:00:00+00:00</td>\n",
       "      <td>https://factnameh.com/fa/fact-checks/2023-10-2...</td>\n",
       "      <td>فکت‌نامه</td>\n",
       "      <td>golda meir and the palestinian passport</td>\n",
       "      <td>طی هفته‌های اخیر با بالا گرفتن جنگ حماس و اسرا...</td>\n",
       "      <td>https://www.youtube.com/watch?v=w3FGvAMvYpc</td>\n",
       "      <td>fa</td>\n",
       "      <td>گمراه‌کننده</td>\n",
       "      <td>NaN</td>\n",
       "      <td>...</td>\n",
       "      <td>302463.00</td>\n",
       "      <td>False</td>\n",
       "      <td>We need more leaders like her, women or men. S...</td>\n",
       "      <td>We need more leaders like her, women or men. S...</td>\n",
       "      <td>10.00</td>\n",
       "      <td>2018-09-16T16:24:02Z</td>\n",
       "      <td>148.00</td>\n",
       "      <td>elgrigorio1</td>\n",
       "      <td>NaN</td>\n",
       "      <td>NaN</td>\n",
       "    </tr>\n",
       "    <tr>\n",
       "      <th>3</th>\n",
       "      <td>gfc_2</td>\n",
       "      <td>2023-10-27 00:00:00+00:00</td>\n",
       "      <td>https://factnameh.com/fa/fact-checks/2023-10-2...</td>\n",
       "      <td>فکت‌نامه</td>\n",
       "      <td>golda meir and the palestinian passport</td>\n",
       "      <td>طی هفته‌های اخیر با بالا گرفتن جنگ حماس و اسرا...</td>\n",
       "      <td>https://www.youtube.com/watch?v=w3FGvAMvYpc</td>\n",
       "      <td>fa</td>\n",
       "      <td>گمراه‌کننده</td>\n",
       "      <td>NaN</td>\n",
       "      <td>...</td>\n",
       "      <td>302463.00</td>\n",
       "      <td>False</td>\n",
       "      <td>What a masterful interview by the Prime Minist...</td>\n",
       "      <td>What a masterful interview by the Prime Minister.</td>\n",
       "      <td>1.00</td>\n",
       "      <td>2023-10-21T20:05:04Z</td>\n",
       "      <td>12.00</td>\n",
       "      <td>Wasim Raja</td>\n",
       "      <td>NaN</td>\n",
       "      <td>NaN</td>\n",
       "    </tr>\n",
       "    <tr>\n",
       "      <th>4</th>\n",
       "      <td>gfc_2</td>\n",
       "      <td>2023-10-27 00:00:00+00:00</td>\n",
       "      <td>https://factnameh.com/fa/fact-checks/2023-10-2...</td>\n",
       "      <td>فکت‌نامه</td>\n",
       "      <td>golda meir and the palestinian passport</td>\n",
       "      <td>طی هفته‌های اخیر با بالا گرفتن جنگ حماس و اسرا...</td>\n",
       "      <td>https://www.youtube.com/watch?v=w3FGvAMvYpc</td>\n",
       "      <td>fa</td>\n",
       "      <td>گمراه‌کننده</td>\n",
       "      <td>NaN</td>\n",
       "      <td>...</td>\n",
       "      <td>302463.00</td>\n",
       "      <td>False</td>\n",
       "      <td>What an interview!!!   She was very wise in he...</td>\n",
       "      <td>What an interview!!!   She was very wise in he...</td>\n",
       "      <td>0.00</td>\n",
       "      <td>2023-10-13T19:47:49Z</td>\n",
       "      <td>15.00</td>\n",
       "      <td>Kelvin Quesenberry</td>\n",
       "      <td>NaN</td>\n",
       "      <td>NaN</td>\n",
       "    </tr>\n",
       "  </tbody>\n",
       "</table>\n",
       "<p>5 rows × 31 columns</p>\n",
       "</div>"
      ],
      "text/plain": [
       "  News_ID               publish_date  \\\n",
       "0   gfc_2  2023-10-27 00:00:00+00:00   \n",
       "1   gfc_2  2023-10-27 00:00:00+00:00   \n",
       "2   gfc_2  2023-10-27 00:00:00+00:00   \n",
       "3   gfc_2  2023-10-27 00:00:00+00:00   \n",
       "4   gfc_2  2023-10-27 00:00:00+00:00   \n",
       "\n",
       "                                                Link source_name  \\\n",
       "0  https://factnameh.com/fa/fact-checks/2023-10-2...    فکت‌نامه   \n",
       "1  https://factnameh.com/fa/fact-checks/2023-10-2...    فکت‌نامه   \n",
       "2  https://factnameh.com/fa/fact-checks/2023-10-2...    فکت‌نامه   \n",
       "3  https://factnameh.com/fa/fact-checks/2023-10-2...    فکت‌نامه   \n",
       "4  https://factnameh.com/fa/fact-checks/2023-10-2...    فکت‌نامه   \n",
       "\n",
       "                                     title  \\\n",
       "0  golda meir and the palestinian passport   \n",
       "1  golda meir and the palestinian passport   \n",
       "2  golda meir and the palestinian passport   \n",
       "3  golda meir and the palestinian passport   \n",
       "4  golda meir and the palestinian passport   \n",
       "\n",
       "                                                text  \\\n",
       "0  طی هفته‌های اخیر با بالا گرفتن جنگ حماس و اسرا...   \n",
       "1  طی هفته‌های اخیر با بالا گرفتن جنگ حماس و اسرا...   \n",
       "2  طی هفته‌های اخیر با بالا گرفتن جنگ حماس و اسرا...   \n",
       "3  طی هفته‌های اخیر با بالا گرفتن جنگ حماس و اسرا...   \n",
       "4  طی هفته‌های اخیر با بالا گرفتن جنگ حماس و اسرا...   \n",
       "\n",
       "                                  youtube_link news_language        label  \\\n",
       "0  https://www.youtube.com/watch?v=w3FGvAMvYpc            fa  گمراه‌کننده   \n",
       "1  https://www.youtube.com/watch?v=w3FGvAMvYpc            fa  گمراه‌کننده   \n",
       "2  https://www.youtube.com/watch?v=w3FGvAMvYpc            fa  گمراه‌کننده   \n",
       "3  https://www.youtube.com/watch?v=w3FGvAMvYpc            fa  گمراه‌کننده   \n",
       "4  https://www.youtube.com/watch?v=w3FGvAMvYpc            fa  گمراه‌کننده   \n",
       "\n",
       "  all_link  ... video_views video_age_restricted  \\\n",
       "0      NaN  ...   302463.00                False   \n",
       "1      NaN  ...   302463.00                False   \n",
       "2      NaN  ...   302463.00                False   \n",
       "3      NaN  ...   302463.00                False   \n",
       "4      NaN  ...   302463.00                False   \n",
       "\n",
       "                                        CommentsData  \\\n",
       "0  Every single word she said was wisely thought ...   \n",
       "1  Spoke three languages fluently with no detecta...   \n",
       "2  We need more leaders like her, women or men. S...   \n",
       "3  What a masterful interview by the Prime Minist...   \n",
       "4  What an interview!!!   She was very wise in he...   \n",
       "\n",
       "                                         commentText  replycount  \\\n",
       "0  Every single word she said was wisely thought ...        2.00   \n",
       "1  Spoke three languages fluently with no detecta...       31.00   \n",
       "2  We need more leaders like her, women or men. S...       10.00   \n",
       "3  What a masterful interview by the Prime Minister.        1.00   \n",
       "4  What an interview!!!   She was very wise in he...        0.00   \n",
       "\n",
       "            publishedAt likeCount   authorDisplayName commentText_processed  \\\n",
       "0  2023-05-20T23:58:29Z    107.00    Sebastian Peretz                   NaN   \n",
       "1  2023-01-10T22:27:12Z    157.00        sure why not                   NaN   \n",
       "2  2018-09-16T16:24:02Z    148.00         elgrigorio1                   NaN   \n",
       "3  2023-10-21T20:05:04Z     12.00          Wasim Raja                   NaN   \n",
       "4  2023-10-13T19:47:49Z     15.00  Kelvin Quesenberry                   NaN   \n",
       "\n",
       "   comment_language  \n",
       "0               NaN  \n",
       "1               NaN  \n",
       "2               NaN  \n",
       "3               NaN  \n",
       "4               NaN  \n",
       "\n",
       "[5 rows x 31 columns]"
      ]
     },
     "execution_count": 11,
     "metadata": {},
     "output_type": "execute_result"
    }
   ],
   "source": [
    "df.head()"
   ]
  },
  {
   "cell_type": "code",
   "execution_count": 12,
   "metadata": {
    "execution": {
     "iopub.execute_input": "2023-10-28T17:34:05.362657Z",
     "iopub.status.busy": "2023-10-28T17:34:05.362199Z",
     "iopub.status.idle": "2023-10-28T17:34:05.639193Z",
     "shell.execute_reply": "2023-10-28T17:34:05.637881Z",
     "shell.execute_reply.started": "2023-10-28T17:34:05.362608Z"
    }
   },
   "outputs": [
    {
     "name": "stdout",
     "output_type": "stream",
     "text": [
      "<class 'pandas.core.frame.DataFrame'>\n",
      "RangeIndex: 85228 entries, 0 to 85227\n",
      "Data columns (total 31 columns):\n",
      " #   Column                 Non-Null Count  Dtype  \n",
      "---  ------                 --------------  -----  \n",
      " 0   News_ID                85228 non-null  object \n",
      " 1   publish_date           85228 non-null  object \n",
      " 2   Link                   85228 non-null  object \n",
      " 3   source_name            85228 non-null  object \n",
      " 4   title                  85228 non-null  object \n",
      " 5   text                   85228 non-null  object \n",
      " 6   youtube_link           85228 non-null  object \n",
      " 7   news_language          85228 non-null  object \n",
      " 8   label                  43995 non-null  object \n",
      " 9   all_link               4639 non-null   object \n",
      " 10  videoId                84983 non-null  object \n",
      " 11  video_url              85228 non-null  object \n",
      " 12  video_title            84983 non-null  object \n",
      " 13  video_author           84983 non-null  object \n",
      " 14  video_length           84983 non-null  float64\n",
      " 15  video_channel_id       84983 non-null  object \n",
      " 16  video_channel_url      84983 non-null  object \n",
      " 17  video_description      0 non-null      float64\n",
      " 18  video_publish_date     84983 non-null  object \n",
      " 19  video_rating           0 non-null      float64\n",
      " 20  video_thumbnail_url    84983 non-null  object \n",
      " 21  video_views            84983 non-null  float64\n",
      " 22  video_age_restricted   84983 non-null  object \n",
      " 23  CommentsData           85228 non-null  object \n",
      " 24  commentText            71585 non-null  object \n",
      " 25  replycount             71540 non-null  object \n",
      " 26  publishedAt            71540 non-null  object \n",
      " 27  likeCount              71540 non-null  float64\n",
      " 28  authorDisplayName      71529 non-null  object \n",
      " 29  commentText_processed  0 non-null      float64\n",
      " 30  comment_language       0 non-null      float64\n",
      "dtypes: float64(7), object(24)\n",
      "memory usage: 20.2+ MB\n"
     ]
    }
   ],
   "source": [
    "df.info()"
   ]
  },
  {
   "cell_type": "code",
   "execution_count": 15,
   "metadata": {
    "execution": {
     "iopub.execute_input": "2023-10-28T17:35:17.723699Z",
     "iopub.status.busy": "2023-10-28T17:35:17.723278Z",
     "iopub.status.idle": "2023-10-28T17:35:17.737742Z",
     "shell.execute_reply": "2023-10-28T17:35:17.736635Z",
     "shell.execute_reply.started": "2023-10-28T17:35:17.723665Z"
    }
   },
   "outputs": [
    {
     "data": {
      "text/plain": [
       "301"
      ]
     },
     "execution_count": 15,
     "metadata": {},
     "output_type": "execute_result"
    }
   ],
   "source": [
    "df['videoId'].nunique()"
   ]
  },
  {
   "cell_type": "code",
   "execution_count": 16,
   "metadata": {
    "execution": {
     "iopub.execute_input": "2023-10-28T17:35:23.018963Z",
     "iopub.status.busy": "2023-10-28T17:35:23.018490Z",
     "iopub.status.idle": "2023-10-28T17:35:23.024224Z",
     "shell.execute_reply": "2023-10-28T17:35:23.023108Z",
     "shell.execute_reply.started": "2023-10-28T17:35:23.018923Z"
    }
   },
   "outputs": [],
   "source": [
    "## Number of caggregateomments/news language\n",
    "#df['comment_language'].nunique(), df['news_language'].nunique()"
   ]
  },
  {
   "cell_type": "code",
   "execution_count": 17,
   "metadata": {
    "execution": {
     "iopub.execute_input": "2023-10-28T17:35:25.370504Z",
     "iopub.status.busy": "2023-10-28T17:35:25.370088Z",
     "iopub.status.idle": "2023-10-28T17:35:25.376090Z",
     "shell.execute_reply": "2023-10-28T17:35:25.374816Z",
     "shell.execute_reply.started": "2023-10-28T17:35:25.370469Z"
    }
   },
   "outputs": [],
   "source": [
    "#df['comment_language'].value_counts('')"
   ]
  },
  {
   "cell_type": "code",
   "execution_count": 18,
   "metadata": {
    "execution": {
     "iopub.execute_input": "2023-10-28T17:35:30.954435Z",
     "iopub.status.busy": "2023-10-28T17:35:30.953895Z",
     "iopub.status.idle": "2023-10-28T17:35:30.963392Z",
     "shell.execute_reply": "2023-10-28T17:35:30.962128Z",
     "shell.execute_reply.started": "2023-10-28T17:35:30.954390Z"
    }
   },
   "outputs": [
    {
     "data": {
      "text/plain": [
       "Index(['News_ID', 'publish_date', 'Link', 'source_name', 'title', 'text',\n",
       "       'youtube_link', 'news_language', 'label', 'all_link', 'videoId',\n",
       "       'video_url', 'video_title', 'video_author', 'video_length',\n",
       "       'video_channel_id', 'video_channel_url', 'video_description',\n",
       "       'video_publish_date', 'video_rating', 'video_thumbnail_url',\n",
       "       'video_views', 'video_age_restricted', 'CommentsData', 'commentText',\n",
       "       'replycount', 'publishedAt', 'likeCount', 'authorDisplayName',\n",
       "       'commentText_processed', 'comment_language'],\n",
       "      dtype='object')"
      ]
     },
     "execution_count": 18,
     "metadata": {},
     "output_type": "execute_result"
    }
   ],
   "source": [
    "df.columns"
   ]
  },
  {
   "cell_type": "code",
   "execution_count": 19,
   "metadata": {
    "execution": {
     "iopub.execute_input": "2023-10-28T17:35:52.482203Z",
     "iopub.status.busy": "2023-10-28T17:35:52.481810Z",
     "iopub.status.idle": "2023-10-28T17:35:52.519375Z",
     "shell.execute_reply": "2023-10-28T17:35:52.518095Z",
     "shell.execute_reply.started": "2023-10-28T17:35:52.482172Z"
    }
   },
   "outputs": [
    {
     "data": {
      "text/plain": [
       "('2023-10-07', '2023-10-30 00:00:00+00:00')"
      ]
     },
     "execution_count": 19,
     "metadata": {},
     "output_type": "execute_result"
    }
   ],
   "source": [
    "df['publish_date'].min(), df['publish_date'].max()"
   ]
  },
  {
   "cell_type": "code",
   "execution_count": 9,
   "metadata": {
    "execution": {
     "iopub.execute_input": "2023-10-28T18:23:27.276976Z",
     "iopub.status.busy": "2023-10-28T18:23:27.276191Z",
     "iopub.status.idle": "2023-10-28T18:23:27.281249Z",
     "shell.execute_reply": "2023-10-28T18:23:27.280213Z",
     "shell.execute_reply.started": "2023-10-28T18:23:27.276933Z"
    }
   },
   "outputs": [],
   "source": [
    "#df['video_publish_date'].min(), df['video_publish_date'].max()"
   ]
  },
  {
   "cell_type": "code",
   "execution_count": 21,
   "metadata": {
    "execution": {
     "iopub.execute_input": "2023-10-28T17:36:11.982195Z",
     "iopub.status.busy": "2023-10-28T17:36:11.981759Z",
     "iopub.status.idle": "2023-10-28T17:36:11.991878Z",
     "shell.execute_reply": "2023-10-28T17:36:11.990656Z",
     "shell.execute_reply.started": "2023-10-28T17:36:11.982149Z"
    }
   },
   "outputs": [
    {
     "data": {
      "text/plain": [
       "(4.0, 30128.0)"
      ]
     },
     "execution_count": 21,
     "metadata": {},
     "output_type": "execute_result"
    }
   ],
   "source": [
    "df['video_length'].min(), df['video_length'].max()"
   ]
  },
  {
   "cell_type": "code",
   "execution_count": 22,
   "metadata": {
    "execution": {
     "iopub.execute_input": "2023-10-28T17:36:17.444365Z",
     "iopub.status.busy": "2023-10-28T17:36:17.443972Z",
     "iopub.status.idle": "2023-10-28T17:36:17.485700Z",
     "shell.execute_reply": "2023-10-28T17:36:17.484481Z",
     "shell.execute_reply.started": "2023-10-28T17:36:17.444332Z"
    }
   },
   "outputs": [
    {
     "data": {
      "text/plain": [
       "(64245, 222)"
      ]
     },
     "execution_count": 22,
     "metadata": {},
     "output_type": "execute_result"
    }
   ],
   "source": [
    "# number of unique users\n",
    "df['authorDisplayName'].nunique(), df['video_author'].nunique()"
   ]
  },
  {
   "cell_type": "code",
   "execution_count": 16,
   "metadata": {
    "execution": {
     "iopub.execute_input": "2023-10-28T17:55:04.021321Z",
     "iopub.status.busy": "2023-10-28T17:55:04.020769Z",
     "iopub.status.idle": "2023-10-28T17:55:04.241249Z",
     "shell.execute_reply": "2023-10-28T17:55:04.239846Z",
     "shell.execute_reply.started": "2023-10-28T17:55:04.021278Z"
    }
   },
   "outputs": [
    {
     "data": {
      "text/plain": [
       "News_ID                      0\n",
       "publish_date                 0\n",
       "Link                         0\n",
       "source_name                  0\n",
       "title                        0\n",
       "text                         0\n",
       "youtube_link                 0\n",
       "news_language                0\n",
       "label                    41233\n",
       "all_link                 80589\n",
       "videoId                    245\n",
       "video_url                    0\n",
       "video_title                245\n",
       "video_author               245\n",
       "video_length               245\n",
       "video_channel_id           245\n",
       "video_channel_url          245\n",
       "video_description        85228\n",
       "video_publish_date         245\n",
       "video_rating             85228\n",
       "video_thumbnail_url        245\n",
       "video_views                245\n",
       "video_age_restricted       245\n",
       "CommentsData                 0\n",
       "commentText              13643\n",
       "replycount               13688\n",
       "publishedAt              13688\n",
       "likeCount                13688\n",
       "authorDisplayName        13699\n",
       "commentText_processed    85228\n",
       "comment_language         85228\n",
       "dtype: int64"
      ]
     },
     "execution_count": 16,
     "metadata": {},
     "output_type": "execute_result"
    }
   ],
   "source": [
    "df.isnull().sum()"
   ]
  },
  {
   "cell_type": "code",
   "execution_count": 13,
   "metadata": {
    "execution": {
     "iopub.execute_input": "2023-10-28T17:52:40.087398Z",
     "iopub.status.busy": "2023-10-28T17:52:40.086958Z",
     "iopub.status.idle": "2023-10-28T17:52:40.114380Z",
     "shell.execute_reply": "2023-10-28T17:52:40.113108Z",
     "shell.execute_reply.started": "2023-10-28T17:52:40.087363Z"
    }
   },
   "outputs": [],
   "source": [
    "# identify all categorical variables\n",
    "cat_columns = df.select_dtypes(['object']).columns"
   ]
  },
  {
   "cell_type": "code",
   "execution_count": 14,
   "metadata": {
    "execution": {
     "iopub.execute_input": "2023-10-28T17:52:40.622892Z",
     "iopub.status.busy": "2023-10-28T17:52:40.622371Z",
     "iopub.status.idle": "2023-10-28T17:52:40.631000Z",
     "shell.execute_reply": "2023-10-28T17:52:40.630021Z",
     "shell.execute_reply.started": "2023-10-28T17:52:40.622854Z"
    }
   },
   "outputs": [
    {
     "data": {
      "text/plain": [
       "24"
      ]
     },
     "execution_count": 14,
     "metadata": {},
     "output_type": "execute_result"
    }
   ],
   "source": [
    "len(cat_columns)\n",
    "\n",
    "# convert all categorical variables to numeric\n",
    "#df[cat_columns] = df[cat_columns].apply(lambda x: pd.factorize(x))"
   ]
  },
  {
   "cell_type": "code",
   "execution_count": 26,
   "metadata": {
    "execution": {
     "iopub.execute_input": "2023-10-28T17:36:35.883621Z",
     "iopub.status.busy": "2023-10-28T17:36:35.883203Z",
     "iopub.status.idle": "2023-10-28T17:36:35.888136Z",
     "shell.execute_reply": "2023-10-28T17:36:35.887229Z",
     "shell.execute_reply.started": "2023-10-28T17:36:35.883586Z"
    }
   },
   "outputs": [],
   "source": [
    "#df.info()"
   ]
  },
  {
   "cell_type": "markdown",
   "metadata": {},
   "source": [
    "## Polarity - Sentiment Analysis"
   ]
  },
  {
   "cell_type": "code",
   "execution_count": 18,
   "metadata": {
    "execution": {
     "iopub.execute_input": "2023-10-28T18:03:17.680525Z",
     "iopub.status.busy": "2023-10-28T18:03:17.679926Z",
     "iopub.status.idle": "2023-10-28T18:05:40.568202Z",
     "shell.execute_reply": "2023-10-28T18:05:40.566858Z",
     "shell.execute_reply.started": "2023-10-28T18:03:17.680468Z"
    }
   },
   "outputs": [
    {
     "name": "stdout",
     "output_type": "stream",
     "text": [
      "NLTK Downloader\n",
      "---------------------------------------------------------------------------\n",
      "    d) Download   l) List    u) Update   c) Config   h) Help   q) Quit\n",
      "---------------------------------------------------------------------------\n"
     ]
    },
    {
     "name": "stdin",
     "output_type": "stream",
     "text": [
      "Downloader>  d\n"
     ]
    },
    {
     "name": "stdout",
     "output_type": "stream",
     "text": [
      "\n",
      "Download which package (l=list; x=cancel)?\n"
     ]
    },
    {
     "name": "stdin",
     "output_type": "stream",
     "text": [
      "  Identifier>  l\n"
     ]
    },
    {
     "name": "stdout",
     "output_type": "stream",
     "text": [
      "Packages:\n",
      "  [ ] averaged_perceptron_tagger_ru Averaged Perceptron Tagger (Russian)\n",
      "  [ ] bcp47............... BCP-47 Language Tags\n",
      "  [ ] comparative_sentences Comparative Sentence Dataset\n",
      "  [ ] dolch............... Dolch Word List\n",
      "  [ ] extended_omw........ Extended Open Multilingual WordNet\n",
      "  [ ] framenet_v15........ FrameNet 1.5\n",
      "  [ ] framenet_v17........ FrameNet 1.7\n",
      "  [ ] mwa_ppdb............ The monolingual word aligner (Sultan et al.\n",
      "                           2015) subset of the Paraphrase Database.\n",
      "  [ ] nombank.1.0......... NomBank Corpus 1.0\n",
      "  [ ] nonbreaking_prefixes Non-Breaking Prefixes (Moses Decoder)\n",
      "  [ ] omw-1.4............. Open Multilingual Wordnet\n",
      "  [ ] panlex_swadesh...... PanLex Swadesh Corpora\n",
      "  [ ] pe08................ Cross-Framework and Cross-Domain Parser\n",
      "                           Evaluation Shared Task\n",
      "  [ ] perluniprops........ perluniprops: Index of Unicode Version 7.0.0\n",
      "                           character properties in Perl\n",
      "  [ ] verbnet3............ VerbNet Lexicon, Version 3.3\n",
      "  [ ] wmt15_eval.......... Evaluation data from WMT15\n",
      "  [ ] wordnet2021......... Open English Wordnet 2021\n"
     ]
    },
    {
     "name": "stdin",
     "output_type": "stream",
     "text": [
      "Hit Enter to continue:  \n"
     ]
    },
    {
     "name": "stdout",
     "output_type": "stream",
     "text": [
      "  [ ] wordnet2022......... Open English Wordnet 2022\n",
      "  [ ] wordnet31........... Wordnet 3.1\n",
      "\n",
      "Collections:\n",
      "  [P] all-corpora......... All the corpora\n",
      "  [P] all-nltk............ All packages available on nltk_data gh-pages\n",
      "                           branch\n",
      "  [P] all................. All packages\n",
      "  [P] book................ Everything used in the NLTK Book\n",
      "  [P] popular............. Popular packages\n",
      "  [P] tests............... Packages for running tests\n",
      "  [ ] third-party......... Third-party data packages\n",
      "\n",
      "([*] marks installed packages; [P] marks partially installed collections)\n",
      "\n",
      "Download which package (l=list; x=cancel)?\n"
     ]
    },
    {
     "name": "stdin",
     "output_type": "stream",
     "text": [
      "  Identifier>  \n"
     ]
    },
    {
     "name": "stdout",
     "output_type": "stream",
     "text": [
      "\n",
      "---------------------------------------------------------------------------\n",
      "    d) Download   l) List    u) Update   c) Config   h) Help   q) Quit\n",
      "---------------------------------------------------------------------------\n"
     ]
    },
    {
     "name": "stdin",
     "output_type": "stream",
     "text": [
      "Downloader>  d\n"
     ]
    },
    {
     "name": "stdout",
     "output_type": "stream",
     "text": [
      "\n",
      "Download which package (l=list; x=cancel)?\n"
     ]
    },
    {
     "name": "stdin",
     "output_type": "stream",
     "text": [
      "  Identifier>  all-corpora\n"
     ]
    },
    {
     "name": "stdout",
     "output_type": "stream",
     "text": [
      "    Downloading collection 'all-corpora'\n",
      "       | \n",
      "       | Downloading package abc to /usr/share/nltk_data...\n",
      "       |   Package abc is already up-to-date!\n",
      "       | Downloading package alpino to /usr/share/nltk_data...\n",
      "       |   Package alpino is already up-to-date!\n",
      "       | Downloading package bcp47 to /usr/share/nltk_data...\n",
      "       | Downloading package biocreative_ppi to\n",
      "       |     /usr/share/nltk_data...\n",
      "       |   Package biocreative_ppi is already up-to-date!\n",
      "       | Downloading package brown to /usr/share/nltk_data...\n",
      "       |   Package brown is already up-to-date!\n",
      "       | Downloading package brown_tei to /usr/share/nltk_data...\n",
      "       |   Package brown_tei is already up-to-date!\n",
      "       | Downloading package cess_cat to /usr/share/nltk_data...\n",
      "       |   Package cess_cat is already up-to-date!\n",
      "       | Downloading package cess_esp to /usr/share/nltk_data...\n",
      "       |   Package cess_esp is already up-to-date!\n",
      "       | Downloading package chat80 to /usr/share/nltk_data...\n",
      "       |   Package chat80 is already up-to-date!\n",
      "       | Downloading package city_database to /usr/share/nltk_data...\n",
      "       |   Package city_database is already up-to-date!\n",
      "       | Downloading package cmudict to /usr/share/nltk_data...\n",
      "       |   Package cmudict is already up-to-date!\n",
      "       | Downloading package comparative_sentences to\n",
      "       |     /usr/share/nltk_data...\n",
      "       |   Unzipping corpora/comparative_sentences.zip.\n",
      "       | Downloading package comtrans to /usr/share/nltk_data...\n",
      "       |   Package comtrans is already up-to-date!\n",
      "       | Downloading package conll2000 to /usr/share/nltk_data...\n",
      "       |   Package conll2000 is already up-to-date!\n",
      "       | Downloading package conll2002 to /usr/share/nltk_data...\n",
      "       |   Package conll2002 is already up-to-date!\n",
      "       | Downloading package conll2007 to /usr/share/nltk_data...\n",
      "       |   Package conll2007 is already up-to-date!\n",
      "       | Downloading package crubadan to /usr/share/nltk_data...\n",
      "       |   Package crubadan is already up-to-date!\n",
      "       | Downloading package dependency_treebank to\n",
      "       |     /usr/share/nltk_data...\n",
      "       |   Package dependency_treebank is already up-to-date!\n",
      "       | Downloading package dolch to /usr/share/nltk_data...\n",
      "       |   Unzipping corpora/dolch.zip.\n",
      "       | Downloading package europarl_raw to /usr/share/nltk_data...\n",
      "       |   Package europarl_raw is already up-to-date!\n",
      "       | Downloading package extended_omw to /usr/share/nltk_data...\n",
      "       | Downloading package floresta to /usr/share/nltk_data...\n",
      "       |   Package floresta is already up-to-date!\n",
      "       | Downloading package framenet_v15 to /usr/share/nltk_data...\n",
      "       |   Unzipping corpora/framenet_v15.zip.\n",
      "       | Downloading package framenet_v17 to /usr/share/nltk_data...\n",
      "       |   Unzipping corpora/framenet_v17.zip.\n",
      "       | Downloading package gazetteers to /usr/share/nltk_data...\n",
      "       |   Package gazetteers is already up-to-date!\n",
      "       | Downloading package genesis to /usr/share/nltk_data...\n",
      "       |   Package genesis is already up-to-date!\n",
      "       | Downloading package gutenberg to /usr/share/nltk_data...\n",
      "       |   Package gutenberg is already up-to-date!\n",
      "       | Downloading package ieer to /usr/share/nltk_data...\n",
      "       |   Package ieer is already up-to-date!\n",
      "       | Downloading package inaugural to /usr/share/nltk_data...\n",
      "       |   Package inaugural is already up-to-date!\n",
      "       | Downloading package indian to /usr/share/nltk_data...\n",
      "       |   Package indian is already up-to-date!\n",
      "       | Downloading package jeita to /usr/share/nltk_data...\n",
      "       |   Package jeita is already up-to-date!\n",
      "       | Downloading package kimmo to /usr/share/nltk_data...\n",
      "       |   Package kimmo is already up-to-date!\n",
      "       | Downloading package knbc to /usr/share/nltk_data...\n",
      "       |   Package knbc is already up-to-date!\n",
      "       | Downloading package lin_thesaurus to /usr/share/nltk_data...\n",
      "       |   Package lin_thesaurus is already up-to-date!\n",
      "       | Downloading package mac_morpho to /usr/share/nltk_data...\n",
      "       |   Package mac_morpho is already up-to-date!\n",
      "       | Downloading package machado to /usr/share/nltk_data...\n",
      "       |   Package machado is already up-to-date!\n",
      "       | Downloading package masc_tagged to /usr/share/nltk_data...\n",
      "       |   Package masc_tagged is already up-to-date!\n",
      "       | Downloading package movie_reviews to /usr/share/nltk_data...\n",
      "       |   Package movie_reviews is already up-to-date!\n",
      "       | Downloading package mte_teip5 to /usr/share/nltk_data...\n",
      "       |   Package mte_teip5 is already up-to-date!\n",
      "       | Downloading package names to /usr/share/nltk_data...\n",
      "       |   Package names is already up-to-date!\n",
      "       | Downloading package nombank.1.0 to /usr/share/nltk_data...\n",
      "       | Downloading package nonbreaking_prefixes to\n",
      "       |     /usr/share/nltk_data...\n",
      "       |   Unzipping corpora/nonbreaking_prefixes.zip.\n",
      "       | Downloading package nps_chat to /usr/share/nltk_data...\n",
      "       |   Package nps_chat is already up-to-date!\n",
      "       | Downloading package omw to /usr/share/nltk_data...\n",
      "       |   Package omw is already up-to-date!\n",
      "       | Downloading package omw-1.4 to /usr/share/nltk_data...\n",
      "       | Downloading package opinion_lexicon to\n",
      "       |     /usr/share/nltk_data...\n",
      "       |   Package opinion_lexicon is already up-to-date!\n",
      "       | Downloading package panlex_swadesh to /usr/share/nltk_data...\n",
      "       | Downloading package paradigms to /usr/share/nltk_data...\n",
      "       |   Package paradigms is already up-to-date!\n",
      "       | Downloading package pe08 to /usr/share/nltk_data...\n",
      "       |   Unzipping corpora/pe08.zip.\n",
      "       | Downloading package pil to /usr/share/nltk_data...\n",
      "       |   Package pil is already up-to-date!\n",
      "       | Downloading package pl196x to /usr/share/nltk_data...\n",
      "       |   Package pl196x is already up-to-date!\n",
      "       | Downloading package ppattach to /usr/share/nltk_data...\n",
      "       |   Package ppattach is already up-to-date!\n",
      "       | Downloading package problem_reports to\n",
      "       |     /usr/share/nltk_data...\n",
      "       |   Package problem_reports is already up-to-date!\n",
      "       | Downloading package product_reviews_1 to\n",
      "       |     /usr/share/nltk_data...\n",
      "       |   Package product_reviews_1 is already up-to-date!\n",
      "       | Downloading package product_reviews_2 to\n",
      "       |     /usr/share/nltk_data...\n",
      "       |   Package product_reviews_2 is already up-to-date!\n",
      "       | Downloading package propbank to /usr/share/nltk_data...\n",
      "       |   Package propbank is already up-to-date!\n",
      "       | Downloading package pros_cons to /usr/share/nltk_data...\n",
      "       |   Package pros_cons is already up-to-date!\n",
      "       | Downloading package ptb to /usr/share/nltk_data...\n",
      "       |   Package ptb is already up-to-date!\n",
      "       | Downloading package qc to /usr/share/nltk_data...\n",
      "       |   Package qc is already up-to-date!\n",
      "       | Downloading package reuters to /usr/share/nltk_data...\n",
      "       |   Package reuters is already up-to-date!\n",
      "       | Downloading package rte to /usr/share/nltk_data...\n",
      "       |   Package rte is already up-to-date!\n",
      "       | Downloading package semcor to /usr/share/nltk_data...\n",
      "       |   Package semcor is already up-to-date!\n",
      "       | Downloading package senseval to /usr/share/nltk_data...\n",
      "       |   Package senseval is already up-to-date!\n",
      "       | Downloading package sentence_polarity to\n",
      "       |     /usr/share/nltk_data...\n",
      "       |   Package sentence_polarity is already up-to-date!\n",
      "       | Downloading package sentiwordnet to /usr/share/nltk_data...\n",
      "       |   Package sentiwordnet is already up-to-date!\n",
      "       | Downloading package shakespeare to /usr/share/nltk_data...\n",
      "       |   Package shakespeare is already up-to-date!\n",
      "       | Downloading package sinica_treebank to\n",
      "       |     /usr/share/nltk_data...\n",
      "       |   Package sinica_treebank is already up-to-date!\n",
      "       | Downloading package smultron to /usr/share/nltk_data...\n",
      "       |   Package smultron is already up-to-date!\n",
      "       | Downloading package state_union to /usr/share/nltk_data...\n",
      "       |   Package state_union is already up-to-date!\n",
      "       | Downloading package stopwords to /usr/share/nltk_data...\n",
      "       |   Package stopwords is already up-to-date!\n",
      "       | Downloading package subjectivity to /usr/share/nltk_data...\n",
      "       |   Package subjectivity is already up-to-date!\n",
      "       | Downloading package swadesh to /usr/share/nltk_data...\n",
      "       |   Package swadesh is already up-to-date!\n",
      "       | Downloading package switchboard to /usr/share/nltk_data...\n",
      "       |   Package switchboard is already up-to-date!\n",
      "       | Downloading package timit to /usr/share/nltk_data...\n",
      "       |   Package timit is already up-to-date!\n",
      "       | Downloading package toolbox to /usr/share/nltk_data...\n",
      "       |   Package toolbox is already up-to-date!\n",
      "       | Downloading package treebank to /usr/share/nltk_data...\n",
      "       |   Package treebank is already up-to-date!\n",
      "       | Downloading package twitter_samples to\n",
      "       |     /usr/share/nltk_data...\n",
      "       |   Package twitter_samples is already up-to-date!\n",
      "       | Downloading package udhr to /usr/share/nltk_data...\n",
      "       |   Package udhr is already up-to-date!\n",
      "       | Downloading package udhr2 to /usr/share/nltk_data...\n",
      "       |   Package udhr2 is already up-to-date!\n",
      "       | Downloading package unicode_samples to\n",
      "       |     /usr/share/nltk_data...\n",
      "       |   Package unicode_samples is already up-to-date!\n",
      "       | Downloading package universal_treebanks_v20 to\n",
      "       |     /usr/share/nltk_data...\n",
      "       |   Package universal_treebanks_v20 is already up-to-date!\n",
      "       | Downloading package verbnet to /usr/share/nltk_data...\n",
      "       |   Package verbnet is already up-to-date!\n",
      "       | Downloading package verbnet3 to /usr/share/nltk_data...\n",
      "       |   Unzipping corpora/verbnet3.zip.\n",
      "       | Downloading package webtext to /usr/share/nltk_data...\n",
      "       |   Package webtext is already up-to-date!\n",
      "       | Downloading package wordnet to /usr/share/nltk_data...\n",
      "       |   Package wordnet is already up-to-date!\n",
      "       | Downloading package wordnet2021 to /usr/share/nltk_data...\n",
      "       | Downloading package wordnet2022 to /usr/share/nltk_data...\n",
      "       |   Unzipping corpora/wordnet2022.zip.\n",
      "       | Downloading package wordnet31 to /usr/share/nltk_data...\n",
      "       | Downloading package wordnet_ic to /usr/share/nltk_data...\n",
      "       |   Package wordnet_ic is already up-to-date!\n",
      "       | Downloading package words to /usr/share/nltk_data...\n",
      "       |   Package words is already up-to-date!\n",
      "       | Downloading package ycoe to /usr/share/nltk_data...\n",
      "       |   Package ycoe is already up-to-date!\n",
      "       | \n",
      "     Done downloading collection all-corpora\n",
      "\n",
      "---------------------------------------------------------------------------\n",
      "    d) Download   l) List    u) Update   c) Config   h) Help   q) Quit\n",
      "---------------------------------------------------------------------------\n"
     ]
    },
    {
     "name": "stdin",
     "output_type": "stream",
     "text": [
      "Downloader>  all-nltk\n"
     ]
    },
    {
     "name": "stdout",
     "output_type": "stream",
     "text": [
      "Command 'all-nltk' unrecognized\n",
      "\n",
      "---------------------------------------------------------------------------\n",
      "    d) Download   l) List    u) Update   c) Config   h) Help   q) Quit\n",
      "---------------------------------------------------------------------------\n"
     ]
    },
    {
     "name": "stdin",
     "output_type": "stream",
     "text": [
      "Downloader>  d\n"
     ]
    },
    {
     "name": "stdout",
     "output_type": "stream",
     "text": [
      "\n",
      "Download which package (l=list; x=cancel)?\n"
     ]
    },
    {
     "name": "stdin",
     "output_type": "stream",
     "text": [
      "  Identifier>  all-nltk\n"
     ]
    },
    {
     "name": "stdout",
     "output_type": "stream",
     "text": [
      "    Downloading collection 'all-nltk'\n",
      "       | \n",
      "       | Downloading package abc to /usr/share/nltk_data...\n",
      "       |   Package abc is already up-to-date!\n",
      "       | Downloading package alpino to /usr/share/nltk_data...\n",
      "       |   Package alpino is already up-to-date!\n",
      "       | Downloading package averaged_perceptron_tagger to\n",
      "       |     /usr/share/nltk_data...\n",
      "       |   Package averaged_perceptron_tagger is already up-to-date!\n",
      "       | Downloading package averaged_perceptron_tagger_ru to\n",
      "       |     /usr/share/nltk_data...\n",
      "       |   Unzipping taggers/averaged_perceptron_tagger_ru.zip.\n",
      "       | Downloading package basque_grammars to\n",
      "       |     /usr/share/nltk_data...\n",
      "       |   Package basque_grammars is already up-to-date!\n",
      "       | Downloading package bcp47 to /usr/share/nltk_data...\n",
      "       |   Package bcp47 is already up-to-date!\n",
      "       | Downloading package biocreative_ppi to\n",
      "       |     /usr/share/nltk_data...\n",
      "       |   Package biocreative_ppi is already up-to-date!\n",
      "       | Downloading package bllip_wsj_no_aux to\n",
      "       |     /usr/share/nltk_data...\n",
      "       |   Package bllip_wsj_no_aux is already up-to-date!\n",
      "       | Downloading package book_grammars to /usr/share/nltk_data...\n",
      "       |   Package book_grammars is already up-to-date!\n",
      "       | Downloading package brown to /usr/share/nltk_data...\n",
      "       |   Package brown is already up-to-date!\n",
      "       | Downloading package brown_tei to /usr/share/nltk_data...\n",
      "       |   Package brown_tei is already up-to-date!\n",
      "       | Downloading package cess_cat to /usr/share/nltk_data...\n",
      "       |   Package cess_cat is already up-to-date!\n",
      "       | Downloading package cess_esp to /usr/share/nltk_data...\n",
      "       |   Package cess_esp is already up-to-date!\n",
      "       | Downloading package chat80 to /usr/share/nltk_data...\n",
      "       |   Package chat80 is already up-to-date!\n",
      "       | Downloading package city_database to /usr/share/nltk_data...\n",
      "       |   Package city_database is already up-to-date!\n",
      "       | Downloading package cmudict to /usr/share/nltk_data...\n",
      "       |   Package cmudict is already up-to-date!\n",
      "       | Downloading package comparative_sentences to\n",
      "       |     /usr/share/nltk_data...\n",
      "       |   Package comparative_sentences is already up-to-date!\n",
      "       | Downloading package comtrans to /usr/share/nltk_data...\n",
      "       |   Package comtrans is already up-to-date!\n",
      "       | Downloading package conll2000 to /usr/share/nltk_data...\n",
      "       |   Package conll2000 is already up-to-date!\n",
      "       | Downloading package conll2002 to /usr/share/nltk_data...\n",
      "       |   Package conll2002 is already up-to-date!\n",
      "       | Downloading package conll2007 to /usr/share/nltk_data...\n",
      "       |   Package conll2007 is already up-to-date!\n",
      "       | Downloading package crubadan to /usr/share/nltk_data...\n",
      "       |   Package crubadan is already up-to-date!\n",
      "       | Downloading package dependency_treebank to\n",
      "       |     /usr/share/nltk_data...\n",
      "       |   Package dependency_treebank is already up-to-date!\n",
      "       | Downloading package dolch to /usr/share/nltk_data...\n",
      "       |   Package dolch is already up-to-date!\n",
      "       | Downloading package europarl_raw to /usr/share/nltk_data...\n",
      "       |   Package europarl_raw is already up-to-date!\n",
      "       | Downloading package extended_omw to /usr/share/nltk_data...\n",
      "       |   Package extended_omw is already up-to-date!\n",
      "       | Downloading package floresta to /usr/share/nltk_data...\n",
      "       |   Package floresta is already up-to-date!\n",
      "       | Downloading package framenet_v15 to /usr/share/nltk_data...\n",
      "       |   Package framenet_v15 is already up-to-date!\n",
      "       | Downloading package framenet_v17 to /usr/share/nltk_data...\n",
      "       |   Package framenet_v17 is already up-to-date!\n",
      "       | Downloading package gazetteers to /usr/share/nltk_data...\n",
      "       |   Package gazetteers is already up-to-date!\n",
      "       | Downloading package genesis to /usr/share/nltk_data...\n",
      "       |   Package genesis is already up-to-date!\n",
      "       | Downloading package gutenberg to /usr/share/nltk_data...\n",
      "       |   Package gutenberg is already up-to-date!\n",
      "       | Downloading package ieer to /usr/share/nltk_data...\n",
      "       |   Package ieer is already up-to-date!\n",
      "       | Downloading package inaugural to /usr/share/nltk_data...\n",
      "       |   Package inaugural is already up-to-date!\n",
      "       | Downloading package indian to /usr/share/nltk_data...\n",
      "       |   Package indian is already up-to-date!\n",
      "       | Downloading package jeita to /usr/share/nltk_data...\n",
      "       |   Package jeita is already up-to-date!\n",
      "       | Downloading package kimmo to /usr/share/nltk_data...\n",
      "       |   Package kimmo is already up-to-date!\n",
      "       | Downloading package knbc to /usr/share/nltk_data...\n",
      "       |   Package knbc is already up-to-date!\n",
      "       | Downloading package large_grammars to /usr/share/nltk_data...\n",
      "       |   Package large_grammars is already up-to-date!\n",
      "       | Downloading package lin_thesaurus to /usr/share/nltk_data...\n",
      "       |   Package lin_thesaurus is already up-to-date!\n",
      "       | Downloading package mac_morpho to /usr/share/nltk_data...\n",
      "       |   Package mac_morpho is already up-to-date!\n",
      "       | Downloading package machado to /usr/share/nltk_data...\n",
      "       |   Package machado is already up-to-date!\n",
      "       | Downloading package masc_tagged to /usr/share/nltk_data...\n",
      "       |   Package masc_tagged is already up-to-date!\n",
      "       | Downloading package maxent_ne_chunker to\n",
      "       |     /usr/share/nltk_data...\n",
      "       |   Package maxent_ne_chunker is already up-to-date!\n",
      "       | Downloading package maxent_treebank_pos_tagger to\n",
      "       |     /usr/share/nltk_data...\n",
      "       |   Package maxent_treebank_pos_tagger is already up-to-date!\n",
      "       | Downloading package moses_sample to /usr/share/nltk_data...\n",
      "       |   Package moses_sample is already up-to-date!\n",
      "       | Downloading package movie_reviews to /usr/share/nltk_data...\n",
      "       |   Package movie_reviews is already up-to-date!\n",
      "       | Downloading package mte_teip5 to /usr/share/nltk_data...\n",
      "       |   Package mte_teip5 is already up-to-date!\n",
      "       | Downloading package mwa_ppdb to /usr/share/nltk_data...\n",
      "       |   Unzipping misc/mwa_ppdb.zip.\n",
      "       | Downloading package names to /usr/share/nltk_data...\n",
      "       |   Package names is already up-to-date!\n",
      "       | Downloading package nombank.1.0 to /usr/share/nltk_data...\n",
      "       |   Package nombank.1.0 is already up-to-date!\n",
      "       | Downloading package nonbreaking_prefixes to\n",
      "       |     /usr/share/nltk_data...\n",
      "       |   Package nonbreaking_prefixes is already up-to-date!\n",
      "       | Downloading package nps_chat to /usr/share/nltk_data...\n",
      "       |   Package nps_chat is already up-to-date!\n",
      "       | Downloading package omw to /usr/share/nltk_data...\n",
      "       |   Package omw is already up-to-date!\n",
      "       | Downloading package omw-1.4 to /usr/share/nltk_data...\n",
      "       |   Package omw-1.4 is already up-to-date!\n",
      "       | Downloading package opinion_lexicon to\n",
      "       |     /usr/share/nltk_data...\n",
      "       |   Package opinion_lexicon is already up-to-date!\n",
      "       | Downloading package panlex_swadesh to /usr/share/nltk_data...\n",
      "       |   Package panlex_swadesh is already up-to-date!\n",
      "       | Downloading package paradigms to /usr/share/nltk_data...\n",
      "       |   Package paradigms is already up-to-date!\n",
      "       | Downloading package pe08 to /usr/share/nltk_data...\n",
      "       |   Package pe08 is already up-to-date!\n",
      "       | Downloading package perluniprops to /usr/share/nltk_data...\n",
      "       |   Unzipping misc/perluniprops.zip.\n",
      "       | Downloading package pil to /usr/share/nltk_data...\n",
      "       |   Package pil is already up-to-date!\n",
      "       | Downloading package pl196x to /usr/share/nltk_data...\n",
      "       |   Package pl196x is already up-to-date!\n",
      "       | Downloading package porter_test to /usr/share/nltk_data...\n",
      "       |   Package porter_test is already up-to-date!\n",
      "       | Downloading package ppattach to /usr/share/nltk_data...\n",
      "       |   Package ppattach is already up-to-date!\n",
      "       | Downloading package problem_reports to\n",
      "       |     /usr/share/nltk_data...\n",
      "       |   Package problem_reports is already up-to-date!\n",
      "       | Downloading package product_reviews_1 to\n",
      "       |     /usr/share/nltk_data...\n",
      "       |   Package product_reviews_1 is already up-to-date!\n",
      "       | Downloading package product_reviews_2 to\n",
      "       |     /usr/share/nltk_data...\n",
      "       |   Package product_reviews_2 is already up-to-date!\n",
      "       | Downloading package propbank to /usr/share/nltk_data...\n",
      "       |   Package propbank is already up-to-date!\n",
      "       | Downloading package pros_cons to /usr/share/nltk_data...\n",
      "       |   Package pros_cons is already up-to-date!\n",
      "       | Downloading package ptb to /usr/share/nltk_data...\n",
      "       |   Package ptb is already up-to-date!\n",
      "       | Downloading package punkt to /usr/share/nltk_data...\n",
      "       |   Package punkt is already up-to-date!\n",
      "       | Downloading package qc to /usr/share/nltk_data...\n",
      "       |   Package qc is already up-to-date!\n",
      "       | Downloading package reuters to /usr/share/nltk_data...\n",
      "       |   Package reuters is already up-to-date!\n",
      "       | Downloading package rslp to /usr/share/nltk_data...\n",
      "       |   Package rslp is already up-to-date!\n",
      "       | Downloading package rte to /usr/share/nltk_data...\n",
      "       |   Package rte is already up-to-date!\n",
      "       | Downloading package sample_grammars to\n",
      "       |     /usr/share/nltk_data...\n",
      "       |   Package sample_grammars is already up-to-date!\n",
      "       | Downloading package semcor to /usr/share/nltk_data...\n",
      "       |   Package semcor is already up-to-date!\n",
      "       | Downloading package senseval to /usr/share/nltk_data...\n",
      "       |   Package senseval is already up-to-date!\n",
      "       | Downloading package sentence_polarity to\n",
      "       |     /usr/share/nltk_data...\n",
      "       |   Package sentence_polarity is already up-to-date!\n",
      "       | Downloading package sentiwordnet to /usr/share/nltk_data...\n",
      "       |   Package sentiwordnet is already up-to-date!\n",
      "       | Downloading package shakespeare to /usr/share/nltk_data...\n",
      "       |   Package shakespeare is already up-to-date!\n",
      "       | Downloading package sinica_treebank to\n",
      "       |     /usr/share/nltk_data...\n",
      "       |   Package sinica_treebank is already up-to-date!\n",
      "       | Downloading package smultron to /usr/share/nltk_data...\n",
      "       |   Package smultron is already up-to-date!\n",
      "       | Downloading package snowball_data to /usr/share/nltk_data...\n",
      "       |   Package snowball_data is already up-to-date!\n",
      "       | Downloading package spanish_grammars to\n",
      "       |     /usr/share/nltk_data...\n",
      "       |   Package spanish_grammars is already up-to-date!\n",
      "       | Downloading package state_union to /usr/share/nltk_data...\n",
      "       |   Package state_union is already up-to-date!\n",
      "       | Downloading package stopwords to /usr/share/nltk_data...\n",
      "       |   Package stopwords is already up-to-date!\n",
      "       | Downloading package subjectivity to /usr/share/nltk_data...\n",
      "       |   Package subjectivity is already up-to-date!\n",
      "       | Downloading package swadesh to /usr/share/nltk_data...\n",
      "       |   Package swadesh is already up-to-date!\n",
      "       | Downloading package switchboard to /usr/share/nltk_data...\n",
      "       |   Package switchboard is already up-to-date!\n",
      "       | Downloading package tagsets to /usr/share/nltk_data...\n",
      "       |   Package tagsets is already up-to-date!\n",
      "       | Downloading package timit to /usr/share/nltk_data...\n",
      "       |   Package timit is already up-to-date!\n",
      "       | Downloading package toolbox to /usr/share/nltk_data...\n",
      "       |   Package toolbox is already up-to-date!\n",
      "       | Downloading package treebank to /usr/share/nltk_data...\n",
      "       |   Package treebank is already up-to-date!\n",
      "       | Downloading package twitter_samples to\n",
      "       |     /usr/share/nltk_data...\n",
      "       |   Package twitter_samples is already up-to-date!\n",
      "       | Downloading package udhr to /usr/share/nltk_data...\n",
      "       |   Package udhr is already up-to-date!\n",
      "       | Downloading package udhr2 to /usr/share/nltk_data...\n",
      "       |   Package udhr2 is already up-to-date!\n",
      "       | Downloading package unicode_samples to\n",
      "       |     /usr/share/nltk_data...\n",
      "       |   Package unicode_samples is already up-to-date!\n",
      "       | Downloading package universal_tagset to\n",
      "       |     /usr/share/nltk_data...\n",
      "       |   Package universal_tagset is already up-to-date!\n",
      "       | Downloading package universal_treebanks_v20 to\n",
      "       |     /usr/share/nltk_data...\n",
      "       |   Package universal_treebanks_v20 is already up-to-date!\n",
      "       | Downloading package vader_lexicon to /usr/share/nltk_data...\n",
      "       |   Package vader_lexicon is already up-to-date!\n",
      "       | Downloading package verbnet to /usr/share/nltk_data...\n",
      "       |   Package verbnet is already up-to-date!\n",
      "       | Downloading package verbnet3 to /usr/share/nltk_data...\n",
      "       |   Package verbnet3 is already up-to-date!\n",
      "       | Downloading package webtext to /usr/share/nltk_data...\n",
      "       |   Package webtext is already up-to-date!\n",
      "       | Downloading package wmt15_eval to /usr/share/nltk_data...\n",
      "       |   Unzipping models/wmt15_eval.zip.\n",
      "       | Downloading package word2vec_sample to\n",
      "       |     /usr/share/nltk_data...\n",
      "       |   Package word2vec_sample is already up-to-date!\n",
      "       | Downloading package wordnet to /usr/share/nltk_data...\n",
      "       |   Package wordnet is already up-to-date!\n",
      "       | Downloading package wordnet2021 to /usr/share/nltk_data...\n",
      "       |   Package wordnet2021 is already up-to-date!\n",
      "       | Downloading package wordnet2022 to /usr/share/nltk_data...\n",
      "       |   Package wordnet2022 is already up-to-date!\n",
      "       | Downloading package wordnet31 to /usr/share/nltk_data...\n",
      "       |   Package wordnet31 is already up-to-date!\n",
      "       | Downloading package wordnet_ic to /usr/share/nltk_data...\n",
      "       |   Package wordnet_ic is already up-to-date!\n",
      "       | Downloading package words to /usr/share/nltk_data...\n",
      "       |   Package words is already up-to-date!\n",
      "       | Downloading package ycoe to /usr/share/nltk_data...\n",
      "       |   Package ycoe is already up-to-date!\n",
      "       | \n",
      "     Done downloading collection all-nltk\n",
      "\n",
      "---------------------------------------------------------------------------\n",
      "    d) Download   l) List    u) Update   c) Config   h) Help   q) Quit\n",
      "---------------------------------------------------------------------------\n"
     ]
    },
    {
     "name": "stdin",
     "output_type": "stream",
     "text": [
      "Downloader>  d\n"
     ]
    },
    {
     "name": "stdout",
     "output_type": "stream",
     "text": [
      "\n",
      "Download which package (l=list; x=cancel)?\n"
     ]
    },
    {
     "name": "stdin",
     "output_type": "stream",
     "text": [
      "  Identifier>  all\n"
     ]
    },
    {
     "name": "stdout",
     "output_type": "stream",
     "text": [
      "    Downloading collection 'all'\n",
      "       | \n",
      "       | Downloading package abc to /usr/share/nltk_data...\n",
      "       |   Package abc is already up-to-date!\n",
      "       | Downloading package alpino to /usr/share/nltk_data...\n",
      "       |   Package alpino is already up-to-date!\n",
      "       | Downloading package averaged_perceptron_tagger to\n",
      "       |     /usr/share/nltk_data...\n",
      "       |   Package averaged_perceptron_tagger is already up-to-date!\n",
      "       | Downloading package averaged_perceptron_tagger_ru to\n",
      "       |     /usr/share/nltk_data...\n",
      "       |   Package averaged_perceptron_tagger_ru is already up-to-\n",
      "       |       date!\n",
      "       | Downloading package basque_grammars to\n",
      "       |     /usr/share/nltk_data...\n",
      "       |   Package basque_grammars is already up-to-date!\n",
      "       | Downloading package bcp47 to /usr/share/nltk_data...\n",
      "       |   Package bcp47 is already up-to-date!\n",
      "       | Downloading package biocreative_ppi to\n",
      "       |     /usr/share/nltk_data...\n",
      "       |   Package biocreative_ppi is already up-to-date!\n",
      "       | Downloading package bllip_wsj_no_aux to\n",
      "       |     /usr/share/nltk_data...\n",
      "       |   Package bllip_wsj_no_aux is already up-to-date!\n",
      "       | Downloading package book_grammars to /usr/share/nltk_data...\n",
      "       |   Package book_grammars is already up-to-date!\n",
      "       | Downloading package brown to /usr/share/nltk_data...\n",
      "       |   Package brown is already up-to-date!\n",
      "       | Downloading package brown_tei to /usr/share/nltk_data...\n",
      "       |   Package brown_tei is already up-to-date!\n",
      "       | Downloading package cess_cat to /usr/share/nltk_data...\n",
      "       |   Package cess_cat is already up-to-date!\n",
      "       | Downloading package cess_esp to /usr/share/nltk_data...\n",
      "       |   Package cess_esp is already up-to-date!\n",
      "       | Downloading package chat80 to /usr/share/nltk_data...\n",
      "       |   Package chat80 is already up-to-date!\n",
      "       | Downloading package city_database to /usr/share/nltk_data...\n",
      "       |   Package city_database is already up-to-date!\n",
      "       | Downloading package cmudict to /usr/share/nltk_data...\n",
      "       |   Package cmudict is already up-to-date!\n",
      "       | Downloading package comparative_sentences to\n",
      "       |     /usr/share/nltk_data...\n",
      "       |   Package comparative_sentences is already up-to-date!\n",
      "       | Downloading package comtrans to /usr/share/nltk_data...\n",
      "       |   Package comtrans is already up-to-date!\n",
      "       | Downloading package conll2000 to /usr/share/nltk_data...\n",
      "       |   Package conll2000 is already up-to-date!\n",
      "       | Downloading package conll2002 to /usr/share/nltk_data...\n",
      "       |   Package conll2002 is already up-to-date!\n",
      "       | Downloading package conll2007 to /usr/share/nltk_data...\n",
      "       |   Package conll2007 is already up-to-date!\n",
      "       | Downloading package crubadan to /usr/share/nltk_data...\n",
      "       |   Package crubadan is already up-to-date!\n",
      "       | Downloading package dependency_treebank to\n",
      "       |     /usr/share/nltk_data...\n",
      "       |   Package dependency_treebank is already up-to-date!\n",
      "       | Downloading package dolch to /usr/share/nltk_data...\n",
      "       |   Package dolch is already up-to-date!\n",
      "       | Downloading package europarl_raw to /usr/share/nltk_data...\n",
      "       |   Package europarl_raw is already up-to-date!\n",
      "       | Downloading package extended_omw to /usr/share/nltk_data...\n",
      "       |   Package extended_omw is already up-to-date!\n",
      "       | Downloading package floresta to /usr/share/nltk_data...\n",
      "       |   Package floresta is already up-to-date!\n",
      "       | Downloading package framenet_v15 to /usr/share/nltk_data...\n",
      "       |   Package framenet_v15 is already up-to-date!\n",
      "       | Downloading package framenet_v17 to /usr/share/nltk_data...\n",
      "       |   Package framenet_v17 is already up-to-date!\n",
      "       | Downloading package gazetteers to /usr/share/nltk_data...\n",
      "       |   Package gazetteers is already up-to-date!\n",
      "       | Downloading package genesis to /usr/share/nltk_data...\n",
      "       |   Package genesis is already up-to-date!\n",
      "       | Downloading package gutenberg to /usr/share/nltk_data...\n",
      "       |   Package gutenberg is already up-to-date!\n",
      "       | Downloading package ieer to /usr/share/nltk_data...\n",
      "       |   Package ieer is already up-to-date!\n",
      "       | Downloading package inaugural to /usr/share/nltk_data...\n",
      "       |   Package inaugural is already up-to-date!\n",
      "       | Downloading package indian to /usr/share/nltk_data...\n",
      "       |   Package indian is already up-to-date!\n",
      "       | Downloading package jeita to /usr/share/nltk_data...\n",
      "       |   Package jeita is already up-to-date!\n",
      "       | Downloading package kimmo to /usr/share/nltk_data...\n",
      "       |   Package kimmo is already up-to-date!\n",
      "       | Downloading package knbc to /usr/share/nltk_data...\n",
      "       |   Package knbc is already up-to-date!\n",
      "       | Downloading package large_grammars to /usr/share/nltk_data...\n",
      "       |   Package large_grammars is already up-to-date!\n",
      "       | Downloading package lin_thesaurus to /usr/share/nltk_data...\n",
      "       |   Package lin_thesaurus is already up-to-date!\n",
      "       | Downloading package mac_morpho to /usr/share/nltk_data...\n",
      "       |   Package mac_morpho is already up-to-date!\n",
      "       | Downloading package machado to /usr/share/nltk_data...\n",
      "       |   Package machado is already up-to-date!\n",
      "       | Downloading package masc_tagged to /usr/share/nltk_data...\n",
      "       |   Package masc_tagged is already up-to-date!\n",
      "       | Downloading package maxent_ne_chunker to\n",
      "       |     /usr/share/nltk_data...\n",
      "       |   Package maxent_ne_chunker is already up-to-date!\n",
      "       | Downloading package maxent_treebank_pos_tagger to\n",
      "       |     /usr/share/nltk_data...\n",
      "       |   Package maxent_treebank_pos_tagger is already up-to-date!\n",
      "       | Downloading package moses_sample to /usr/share/nltk_data...\n",
      "       |   Package moses_sample is already up-to-date!\n",
      "       | Downloading package movie_reviews to /usr/share/nltk_data...\n",
      "       |   Package movie_reviews is already up-to-date!\n",
      "       | Downloading package mte_teip5 to /usr/share/nltk_data...\n",
      "       |   Package mte_teip5 is already up-to-date!\n",
      "       | Downloading package mwa_ppdb to /usr/share/nltk_data...\n",
      "       |   Package mwa_ppdb is already up-to-date!\n",
      "       | Downloading package names to /usr/share/nltk_data...\n",
      "       |   Package names is already up-to-date!\n",
      "       | Downloading package nombank.1.0 to /usr/share/nltk_data...\n",
      "       |   Package nombank.1.0 is already up-to-date!\n",
      "       | Downloading package nonbreaking_prefixes to\n",
      "       |     /usr/share/nltk_data...\n",
      "       |   Package nonbreaking_prefixes is already up-to-date!\n",
      "       | Downloading package nps_chat to /usr/share/nltk_data...\n",
      "       |   Package nps_chat is already up-to-date!\n",
      "       | Downloading package omw to /usr/share/nltk_data...\n",
      "       |   Package omw is already up-to-date!\n",
      "       | Downloading package omw-1.4 to /usr/share/nltk_data...\n",
      "       |   Package omw-1.4 is already up-to-date!\n",
      "       | Downloading package opinion_lexicon to\n",
      "       |     /usr/share/nltk_data...\n",
      "       |   Package opinion_lexicon is already up-to-date!\n",
      "       | Downloading package panlex_swadesh to /usr/share/nltk_data...\n",
      "       |   Package panlex_swadesh is already up-to-date!\n",
      "       | Downloading package paradigms to /usr/share/nltk_data...\n",
      "       |   Package paradigms is already up-to-date!\n",
      "       | Downloading package pe08 to /usr/share/nltk_data...\n",
      "       |   Package pe08 is already up-to-date!\n",
      "       | Downloading package perluniprops to /usr/share/nltk_data...\n",
      "       |   Package perluniprops is already up-to-date!\n",
      "       | Downloading package pil to /usr/share/nltk_data...\n",
      "       |   Package pil is already up-to-date!\n",
      "       | Downloading package pl196x to /usr/share/nltk_data...\n",
      "       |   Package pl196x is already up-to-date!\n",
      "       | Downloading package porter_test to /usr/share/nltk_data...\n",
      "       |   Package porter_test is already up-to-date!\n",
      "       | Downloading package ppattach to /usr/share/nltk_data...\n",
      "       |   Package ppattach is already up-to-date!\n",
      "       | Downloading package problem_reports to\n",
      "       |     /usr/share/nltk_data...\n",
      "       |   Package problem_reports is already up-to-date!\n",
      "       | Downloading package product_reviews_1 to\n",
      "       |     /usr/share/nltk_data...\n",
      "       |   Package product_reviews_1 is already up-to-date!\n",
      "       | Downloading package product_reviews_2 to\n",
      "       |     /usr/share/nltk_data...\n",
      "       |   Package product_reviews_2 is already up-to-date!\n",
      "       | Downloading package propbank to /usr/share/nltk_data...\n",
      "       |   Package propbank is already up-to-date!\n",
      "       | Downloading package pros_cons to /usr/share/nltk_data...\n",
      "       |   Package pros_cons is already up-to-date!\n",
      "       | Downloading package ptb to /usr/share/nltk_data...\n",
      "       |   Package ptb is already up-to-date!\n",
      "       | Downloading package punkt to /usr/share/nltk_data...\n",
      "       |   Package punkt is already up-to-date!\n",
      "       | Downloading package qc to /usr/share/nltk_data...\n",
      "       |   Package qc is already up-to-date!\n",
      "       | Downloading package reuters to /usr/share/nltk_data...\n",
      "       |   Package reuters is already up-to-date!\n",
      "       | Downloading package rslp to /usr/share/nltk_data...\n",
      "       |   Package rslp is already up-to-date!\n",
      "       | Downloading package rte to /usr/share/nltk_data...\n",
      "       |   Package rte is already up-to-date!\n",
      "       | Downloading package sample_grammars to\n",
      "       |     /usr/share/nltk_data...\n",
      "       |   Package sample_grammars is already up-to-date!\n",
      "       | Downloading package semcor to /usr/share/nltk_data...\n",
      "       |   Package semcor is already up-to-date!\n",
      "       | Downloading package senseval to /usr/share/nltk_data...\n",
      "       |   Package senseval is already up-to-date!\n",
      "       | Downloading package sentence_polarity to\n",
      "       |     /usr/share/nltk_data...\n",
      "       |   Package sentence_polarity is already up-to-date!\n",
      "       | Downloading package sentiwordnet to /usr/share/nltk_data...\n",
      "       |   Package sentiwordnet is already up-to-date!\n",
      "       | Downloading package shakespeare to /usr/share/nltk_data...\n",
      "       |   Package shakespeare is already up-to-date!\n",
      "       | Downloading package sinica_treebank to\n",
      "       |     /usr/share/nltk_data...\n",
      "       |   Package sinica_treebank is already up-to-date!\n",
      "       | Downloading package smultron to /usr/share/nltk_data...\n",
      "       |   Package smultron is already up-to-date!\n",
      "       | Downloading package snowball_data to /usr/share/nltk_data...\n",
      "       |   Package snowball_data is already up-to-date!\n",
      "       | Downloading package spanish_grammars to\n",
      "       |     /usr/share/nltk_data...\n",
      "       |   Package spanish_grammars is already up-to-date!\n",
      "       | Downloading package state_union to /usr/share/nltk_data...\n",
      "       |   Package state_union is already up-to-date!\n",
      "       | Downloading package stopwords to /usr/share/nltk_data...\n",
      "       |   Package stopwords is already up-to-date!\n",
      "       | Downloading package subjectivity to /usr/share/nltk_data...\n",
      "       |   Package subjectivity is already up-to-date!\n",
      "       | Downloading package swadesh to /usr/share/nltk_data...\n",
      "       |   Package swadesh is already up-to-date!\n",
      "       | Downloading package switchboard to /usr/share/nltk_data...\n",
      "       |   Package switchboard is already up-to-date!\n",
      "       | Downloading package tagsets to /usr/share/nltk_data...\n",
      "       |   Package tagsets is already up-to-date!\n",
      "       | Downloading package timit to /usr/share/nltk_data...\n",
      "       |   Package timit is already up-to-date!\n",
      "       | Downloading package toolbox to /usr/share/nltk_data...\n",
      "       |   Package toolbox is already up-to-date!\n",
      "       | Downloading package treebank to /usr/share/nltk_data...\n",
      "       |   Package treebank is already up-to-date!\n",
      "       | Downloading package twitter_samples to\n",
      "       |     /usr/share/nltk_data...\n",
      "       |   Package twitter_samples is already up-to-date!\n",
      "       | Downloading package udhr to /usr/share/nltk_data...\n",
      "       |   Package udhr is already up-to-date!\n",
      "       | Downloading package udhr2 to /usr/share/nltk_data...\n",
      "       |   Package udhr2 is already up-to-date!\n",
      "       | Downloading package unicode_samples to\n",
      "       |     /usr/share/nltk_data...\n",
      "       |   Package unicode_samples is already up-to-date!\n",
      "       | Downloading package universal_tagset to\n",
      "       |     /usr/share/nltk_data...\n",
      "       |   Package universal_tagset is already up-to-date!\n",
      "       | Downloading package universal_treebanks_v20 to\n",
      "       |     /usr/share/nltk_data...\n",
      "       |   Package universal_treebanks_v20 is already up-to-date!\n",
      "       | Downloading package vader_lexicon to /usr/share/nltk_data...\n",
      "       |   Package vader_lexicon is already up-to-date!\n",
      "       | Downloading package verbnet to /usr/share/nltk_data...\n",
      "       |   Package verbnet is already up-to-date!\n",
      "       | Downloading package verbnet3 to /usr/share/nltk_data...\n",
      "       |   Package verbnet3 is already up-to-date!\n",
      "       | Downloading package webtext to /usr/share/nltk_data...\n",
      "       |   Package webtext is already up-to-date!\n",
      "       | Downloading package wmt15_eval to /usr/share/nltk_data...\n",
      "       |   Package wmt15_eval is already up-to-date!\n",
      "       | Downloading package word2vec_sample to\n",
      "       |     /usr/share/nltk_data...\n",
      "       |   Package word2vec_sample is already up-to-date!\n",
      "       | Downloading package wordnet to /usr/share/nltk_data...\n",
      "       |   Package wordnet is already up-to-date!\n",
      "       | Downloading package wordnet2021 to /usr/share/nltk_data...\n",
      "       |   Package wordnet2021 is already up-to-date!\n",
      "       | Downloading package wordnet2022 to /usr/share/nltk_data...\n",
      "       |   Package wordnet2022 is already up-to-date!\n",
      "       | Downloading package wordnet31 to /usr/share/nltk_data...\n",
      "       |   Package wordnet31 is already up-to-date!\n",
      "       | Downloading package wordnet_ic to /usr/share/nltk_data...\n",
      "       |   Package wordnet_ic is already up-to-date!\n",
      "       | Downloading package words to /usr/share/nltk_data...\n",
      "       |   Package words is already up-to-date!\n",
      "       | Downloading package ycoe to /usr/share/nltk_data...\n",
      "       |   Package ycoe is already up-to-date!\n",
      "       | \n",
      "     Done downloading collection all\n",
      "\n",
      "---------------------------------------------------------------------------\n",
      "    d) Download   l) List    u) Update   c) Config   h) Help   q) Quit\n",
      "---------------------------------------------------------------------------\n"
     ]
    },
    {
     "name": "stdin",
     "output_type": "stream",
     "text": [
      "Downloader>  u\n"
     ]
    },
    {
     "name": "stdout",
     "output_type": "stream",
     "text": [
      "\n",
      "Nothing to update.\n",
      "\n",
      "---------------------------------------------------------------------------\n",
      "    d) Download   l) List    u) Update   c) Config   h) Help   q) Quit\n",
      "---------------------------------------------------------------------------\n"
     ]
    },
    {
     "name": "stdin",
     "output_type": "stream",
     "text": [
      "Downloader>  q\n"
     ]
    },
    {
     "data": {
      "text/plain": [
       "True"
      ]
     },
     "execution_count": 18,
     "metadata": {},
     "output_type": "execute_result"
    }
   ],
   "source": [
    "nltk.download()"
   ]
  },
  {
   "cell_type": "code",
   "execution_count": 20,
   "metadata": {
    "execution": {
     "iopub.execute_input": "2023-10-28T18:06:23.490527Z",
     "iopub.status.busy": "2023-10-28T18:06:23.490076Z",
     "iopub.status.idle": "2023-10-28T18:06:26.192249Z",
     "shell.execute_reply": "2023-10-28T18:06:26.191032Z",
     "shell.execute_reply.started": "2023-10-28T18:06:23.490494Z"
    }
   },
   "outputs": [
    {
     "name": "stdout",
     "output_type": "stream",
     "text": [
      "[nltk_data] Downloading package brown to /usr/share/nltk_data...\n",
      "[nltk_data]   Package brown is already up-to-date!\n",
      "[nltk_data] Downloading package punkt to /usr/share/nltk_data...\n",
      "[nltk_data]   Package punkt is already up-to-date!\n",
      "[nltk_data] Downloading package wordnet to /usr/share/nltk_data...\n",
      "[nltk_data]   Package wordnet is already up-to-date!\n",
      "[nltk_data] Downloading package averaged_perceptron_tagger to\n",
      "[nltk_data]     /usr/share/nltk_data...\n",
      "[nltk_data]   Package averaged_perceptron_tagger is already up-to-\n",
      "[nltk_data]       date!\n",
      "[nltk_data] Downloading package conll2000 to /usr/share/nltk_data...\n",
      "[nltk_data]   Package conll2000 is already up-to-date!\n",
      "[nltk_data] Downloading package movie_reviews to\n",
      "[nltk_data]     /usr/share/nltk_data...\n",
      "[nltk_data]   Package movie_reviews is already up-to-date!\n",
      "Finished.\n"
     ]
    }
   ],
   "source": [
    "!python -m textblob.download_corpora"
   ]
  },
  {
   "cell_type": "code",
   "execution_count": 6,
   "metadata": {
    "execution": {
     "iopub.execute_input": "2023-10-28T18:39:30.216049Z",
     "iopub.status.busy": "2023-10-28T18:39:30.211186Z",
     "iopub.status.idle": "2023-10-28T18:39:30.267662Z",
     "shell.execute_reply": "2023-10-28T18:39:30.266199Z",
     "shell.execute_reply.started": "2023-10-28T18:39:30.215951Z"
    }
   },
   "outputs": [
    {
     "name": "stdout",
     "output_type": "stream",
     "text": [
      "Comments on videos -  85228\n",
      "Unique Videos -  301\n",
      "Comments per Video - 283\n"
     ]
    }
   ],
   "source": [
    "print('Comments on videos - ', format(len(df['CommentsData'])))\n",
    "print('Unique Videos - ', format(df['videoId'].nunique()))\n",
    "print('Comments per Video -', format(int(len(df['CommentsData'])/df['videoId'].nunique())))"
   ]
  },
  {
   "cell_type": "code",
   "execution_count": 8,
   "metadata": {
    "execution": {
     "iopub.execute_input": "2023-10-28T18:40:39.521645Z",
     "iopub.status.busy": "2023-10-28T18:40:39.521187Z",
     "iopub.status.idle": "2023-10-28T18:40:43.003646Z",
     "shell.execute_reply": "2023-10-28T18:40:43.002481Z",
     "shell.execute_reply.started": "2023-10-28T18:40:39.521607Z"
    }
   },
   "outputs": [],
   "source": [
    "# text analysis, first normalize case\n",
    "#df['CommentsData'] = df['CommentsData'].str.lower()\n",
    "# punctuations\n",
    "df['CommentsData'] = df['CommentsData'].str.replace('[^\\w\\s]', '')\n",
    "df['CommentsData'] = df['CommentsData'].str.replace('\\d', '')\n",
    "# stopwords\n",
    "sw = stopwords.words('english')\n",
    "df['CommentsData'] = df['CommentsData'].apply(lambda x: \" \".join(x for x in str(x).split() if x not in sw))\n",
    "# lemmatization/stemming\n",
    "#df['CommentsData'] = df['CommentsData'].apply(lambda x: \" \".join([Word(word).lemmatize() for word in x.split()]))"
   ]
  },
  {
   "cell_type": "code",
   "execution_count": 7,
   "metadata": {
    "execution": {
     "iopub.execute_input": "2023-10-28T18:40:36.831988Z",
     "iopub.status.busy": "2023-10-28T18:40:36.831562Z",
     "iopub.status.idle": "2023-10-28T18:40:36.838824Z",
     "shell.execute_reply": "2023-10-28T18:40:36.837430Z",
     "shell.execute_reply.started": "2023-10-28T18:40:36.831958Z"
    }
   },
   "outputs": [],
   "source": [
    "def clean_text(text):\n",
    "    text = text.lower().strip()\n",
    "    text = re.sub(r\"([-?.!,/\\\"])\", '', text)\n",
    "    text = re.sub(r\"[-()\\\"#/@;:<>{}`+=~|.!?,']\", \"\", text)\n",
    "    text = re.sub(r\"[ ]+\", \" \", text)\n",
    "    text = re.sub('\\n\\n','', text)\n",
    "    text = text.rstrip().strip()\n",
    "    return text"
   ]
  },
  {
   "cell_type": "code",
   "execution_count": 9,
   "metadata": {
    "execution": {
     "iopub.execute_input": "2023-10-28T18:41:35.699237Z",
     "iopub.status.busy": "2023-10-28T18:41:35.698809Z",
     "iopub.status.idle": "2023-10-28T18:41:37.996747Z",
     "shell.execute_reply": "2023-10-28T18:41:37.995736Z",
     "shell.execute_reply.started": "2023-10-28T18:41:35.699204Z"
    }
   },
   "outputs": [
    {
     "name": "stdout",
     "output_type": "stream",
     "text": [
      "0 iteration(s) completed\n",
      "1000 iteration(s) completed\n",
      "2000 iteration(s) completed\n",
      "3000 iteration(s) completed\n",
      "4000 iteration(s) completed\n",
      "5000 iteration(s) completed\n",
      "6000 iteration(s) completed\n",
      "7000 iteration(s) completed\n",
      "8000 iteration(s) completed\n",
      "9000 iteration(s) completed\n",
      "10000 iteration(s) completed\n",
      "11000 iteration(s) completed\n",
      "12000 iteration(s) completed\n",
      "13000 iteration(s) completed\n",
      "14000 iteration(s) completed\n",
      "15000 iteration(s) completed\n",
      "16000 iteration(s) completed\n",
      "17000 iteration(s) completed\n",
      "18000 iteration(s) completed\n",
      "19000 iteration(s) completed\n",
      "20000 iteration(s) completed\n",
      "21000 iteration(s) completed\n",
      "22000 iteration(s) completed\n",
      "23000 iteration(s) completed\n",
      "24000 iteration(s) completed\n",
      "25000 iteration(s) completed\n",
      "26000 iteration(s) completed\n",
      "27000 iteration(s) completed\n",
      "28000 iteration(s) completed\n",
      "29000 iteration(s) completed\n",
      "30000 iteration(s) completed\n",
      "31000 iteration(s) completed\n",
      "32000 iteration(s) completed\n",
      "33000 iteration(s) completed\n",
      "34000 iteration(s) completed\n",
      "35000 iteration(s) completed\n",
      "36000 iteration(s) completed\n",
      "37000 iteration(s) completed\n",
      "38000 iteration(s) completed\n",
      "39000 iteration(s) completed\n",
      "40000 iteration(s) completed\n",
      "41000 iteration(s) completed\n",
      "42000 iteration(s) completed\n",
      "43000 iteration(s) completed\n",
      "44000 iteration(s) completed\n",
      "45000 iteration(s) completed\n",
      "46000 iteration(s) completed\n",
      "47000 iteration(s) completed\n",
      "48000 iteration(s) completed\n",
      "49000 iteration(s) completed\n",
      "50000 iteration(s) completed\n",
      "51000 iteration(s) completed\n",
      "52000 iteration(s) completed\n",
      "53000 iteration(s) completed\n",
      "54000 iteration(s) completed\n",
      "55000 iteration(s) completed\n",
      "56000 iteration(s) completed\n",
      "57000 iteration(s) completed\n",
      "58000 iteration(s) completed\n",
      "59000 iteration(s) completed\n",
      "60000 iteration(s) completed\n",
      "61000 iteration(s) completed\n",
      "62000 iteration(s) completed\n",
      "63000 iteration(s) completed\n",
      "64000 iteration(s) completed\n",
      "65000 iteration(s) completed\n",
      "66000 iteration(s) completed\n",
      "67000 iteration(s) completed\n",
      "68000 iteration(s) completed\n",
      "69000 iteration(s) completed\n",
      "70000 iteration(s) completed\n",
      "71000 iteration(s) completed\n",
      "72000 iteration(s) completed\n",
      "73000 iteration(s) completed\n",
      "74000 iteration(s) completed\n",
      "75000 iteration(s) completed\n",
      "76000 iteration(s) completed\n",
      "77000 iteration(s) completed\n",
      "78000 iteration(s) completed\n",
      "79000 iteration(s) completed\n",
      "80000 iteration(s) completed\n",
      "81000 iteration(s) completed\n",
      "82000 iteration(s) completed\n",
      "83000 iteration(s) completed\n",
      "84000 iteration(s) completed\n",
      "85000 iteration(s) completed\n"
     ]
    }
   ],
   "source": [
    "clean_comments = []\n",
    "for i in range(len(df['CommentsData'])):\n",
    "    try:\n",
    "        clean_comments.append(clean_text(df['CommentsData'][i]))\n",
    "    except:\n",
    "        clean_comments.append('None')\n",
    "    if i % 1000==0:\n",
    "        print(f'{i} iteration(s) completed')\n",
    "df['Clean_Comments'] = clean_comments"
   ]
  },
  {
   "cell_type": "code",
   "execution_count": 10,
   "metadata": {
    "execution": {
     "iopub.execute_input": "2023-10-28T18:42:01.140893Z",
     "iopub.status.busy": "2023-10-28T18:42:01.140457Z",
     "iopub.status.idle": "2023-10-28T18:42:01.146943Z",
     "shell.execute_reply": "2023-10-28T18:42:01.145705Z",
     "shell.execute_reply.started": "2023-10-28T18:42:01.140860Z"
    }
   },
   "outputs": [],
   "source": [
    "#df[\"CommentsData\"].apply(lambda x: TextBlob(x).words).head()"
   ]
  },
  {
   "cell_type": "markdown",
   "metadata": {},
   "source": [
    "- Polarity is a float value within the range [-1.0 to 1.0].\n",
    "\n",
    "- Here, 0 indicates neutral,\n",
    "\n",
    "- +1 indicates a very positive sentiment, and\n",
    "\n",
    "- -1 represents a very negative sentiment."
   ]
  },
  {
   "cell_type": "code",
   "execution_count": 11,
   "metadata": {
    "execution": {
     "iopub.execute_input": "2023-10-28T18:43:15.353940Z",
     "iopub.status.busy": "2023-10-28T18:43:15.352858Z",
     "iopub.status.idle": "2023-10-28T18:43:34.214784Z",
     "shell.execute_reply": "2023-10-28T18:43:34.213715Z",
     "shell.execute_reply.started": "2023-10-28T18:43:15.353895Z"
    }
   },
   "outputs": [
    {
     "name": "stdout",
     "output_type": "stream",
     "text": [
      "Polarity Column added to the dataframe\n"
     ]
    }
   ],
   "source": [
    "polarity = []\n",
    "for i in df['Clean_Comments']:\n",
    "    blob = TextBlob(i)\n",
    "    polarity.append(round(blob.sentiment.polarity,3))\n",
    "df['polarity'] = polarity\n",
    "print('Polarity Column added to the dataframe')"
   ]
  },
  {
   "cell_type": "code",
   "execution_count": 16,
   "metadata": {
    "execution": {
     "iopub.execute_input": "2023-10-28T18:46:55.337420Z",
     "iopub.status.busy": "2023-10-28T18:46:55.336911Z",
     "iopub.status.idle": "2023-10-28T18:46:55.414248Z",
     "shell.execute_reply": "2023-10-28T18:46:55.412967Z",
     "shell.execute_reply.started": "2023-10-28T18:46:55.337378Z"
    }
   },
   "outputs": [
    {
     "name": "stdout",
     "output_type": "stream",
     "text": [
      "Comments with Positive Sentiment based on Polarity : 23313\n",
      "Comments with Negative Sentiment based on Polarity : 9987\n",
      "Comments with Neutral Sentiment based on Polarity : 51928\n"
     ]
    }
   ],
   "source": [
    "print('Comments with Positive Sentiment based on Polarity :', len(df[df['polarity'] > 0]))\n",
    "print('Comments with Negative Sentiment based on Polarity :', len(df[df['polarity'] < 0]))\n",
    "print('Comments with Neutral Sentiment based on Polarity :', len(df[df['polarity'] == 0]))"
   ]
  },
  {
   "cell_type": "code",
   "execution_count": 12,
   "metadata": {
    "execution": {
     "iopub.execute_input": "2023-10-28T18:44:14.896696Z",
     "iopub.status.busy": "2023-10-28T18:44:14.896288Z",
     "iopub.status.idle": "2023-10-28T18:44:14.901374Z",
     "shell.execute_reply": "2023-10-28T18:44:14.899945Z",
     "shell.execute_reply.started": "2023-10-28T18:44:14.896666Z"
    }
   },
   "outputs": [],
   "source": [
    "# term frequencies - don't try this is massively CPU extensive, requires >=40GB CPU\n",
    "#tf = df[\"CommentsData\"].apply(lambda x: pd.value_counts(x.split(\" \"))).sum(axis=0).reset_index()"
   ]
  },
  {
   "cell_type": "code",
   "execution_count": 15,
   "metadata": {
    "execution": {
     "iopub.execute_input": "2023-10-28T18:45:51.406355Z",
     "iopub.status.busy": "2023-10-28T18:45:51.405862Z",
     "iopub.status.idle": "2023-10-28T18:45:52.431425Z",
     "shell.execute_reply": "2023-10-28T18:45:52.430217Z",
     "shell.execute_reply.started": "2023-10-28T18:45:51.406305Z"
    }
   },
   "outputs": [
    {
     "name": "stdout",
     "output_type": "stream",
     "text": [
      "Sentiment column has been added to the dataframe.\n"
     ]
    }
   ],
   "source": [
    "sentiment = []\n",
    "for i in range(len(df['polarity'])):\n",
    "    if df['polarity'][i] > 0:\n",
    "        sentiment.append('Positive')\n",
    "    elif df['polarity'][i] < 0:\n",
    "        sentiment.append('Negative')\n",
    "    else:\n",
    "        sentiment.append('Neutral')\n",
    "df['sentiment'] = sentiment\n",
    "print('Sentiment column has been added to the dataframe.')"
   ]
  },
  {
   "cell_type": "code",
   "execution_count": 18,
   "metadata": {
    "execution": {
     "iopub.execute_input": "2023-10-28T18:47:51.173243Z",
     "iopub.status.busy": "2023-10-28T18:47:51.172371Z",
     "iopub.status.idle": "2023-10-28T18:47:51.204656Z",
     "shell.execute_reply": "2023-10-28T18:47:51.203323Z",
     "shell.execute_reply.started": "2023-10-28T18:47:51.173202Z"
    }
   },
   "outputs": [
    {
     "data": {
      "text/html": [
       "<div>\n",
       "<style scoped>\n",
       "    .dataframe tbody tr th:only-of-type {\n",
       "        vertical-align: middle;\n",
       "    }\n",
       "\n",
       "    .dataframe tbody tr th {\n",
       "        vertical-align: top;\n",
       "    }\n",
       "\n",
       "    .dataframe thead th {\n",
       "        text-align: right;\n",
       "    }\n",
       "</style>\n",
       "<table border=\"1\" class=\"dataframe\">\n",
       "  <thead>\n",
       "    <tr style=\"text-align: right;\">\n",
       "      <th></th>\n",
       "      <th>News_ID</th>\n",
       "      <th>publish_date</th>\n",
       "      <th>Link</th>\n",
       "      <th>source_name</th>\n",
       "      <th>title</th>\n",
       "      <th>text</th>\n",
       "      <th>youtube_link</th>\n",
       "      <th>news_language</th>\n",
       "      <th>label</th>\n",
       "      <th>all_link</th>\n",
       "      <th>...</th>\n",
       "      <th>commentText</th>\n",
       "      <th>replycount</th>\n",
       "      <th>publishedAt</th>\n",
       "      <th>likeCount</th>\n",
       "      <th>authorDisplayName</th>\n",
       "      <th>commentText_processed</th>\n",
       "      <th>comment_language</th>\n",
       "      <th>Clean_Comments</th>\n",
       "      <th>polarity</th>\n",
       "      <th>sentiment</th>\n",
       "    </tr>\n",
       "  </thead>\n",
       "  <tbody>\n",
       "    <tr>\n",
       "      <th>0</th>\n",
       "      <td>gfc_2</td>\n",
       "      <td>2023-10-27 00:00:00+00:00</td>\n",
       "      <td>https://factnameh.com/fa/fact-checks/2023-10-2...</td>\n",
       "      <td>فکت‌نامه</td>\n",
       "      <td>golda meir and the palestinian passport</td>\n",
       "      <td>طی هفته‌های اخیر با بالا گرفتن جنگ حماس و اسرا...</td>\n",
       "      <td>https://www.youtube.com/watch?v=w3FGvAMvYpc</td>\n",
       "      <td>fa</td>\n",
       "      <td>گمراه‌کننده</td>\n",
       "      <td>NaN</td>\n",
       "      <td>...</td>\n",
       "      <td>Every single word she said was wisely thought ...</td>\n",
       "      <td>2.00</td>\n",
       "      <td>2023-05-20T23:58:29Z</td>\n",
       "      <td>107.00</td>\n",
       "      <td>Sebastian Peretz</td>\n",
       "      <td>NaN</td>\n",
       "      <td>NaN</td>\n",
       "      <td>every single word said wisely thought thus men...</td>\n",
       "      <td>0.40</td>\n",
       "      <td>Positive</td>\n",
       "    </tr>\n",
       "    <tr>\n",
       "      <th>1</th>\n",
       "      <td>gfc_2</td>\n",
       "      <td>2023-10-27 00:00:00+00:00</td>\n",
       "      <td>https://factnameh.com/fa/fact-checks/2023-10-2...</td>\n",
       "      <td>فکت‌نامه</td>\n",
       "      <td>golda meir and the palestinian passport</td>\n",
       "      <td>طی هفته‌های اخیر با بالا گرفتن جنگ حماس و اسرا...</td>\n",
       "      <td>https://www.youtube.com/watch?v=w3FGvAMvYpc</td>\n",
       "      <td>fa</td>\n",
       "      <td>گمراه‌کننده</td>\n",
       "      <td>NaN</td>\n",
       "      <td>...</td>\n",
       "      <td>Spoke three languages fluently with no detecta...</td>\n",
       "      <td>31.00</td>\n",
       "      <td>2023-01-10T22:27:12Z</td>\n",
       "      <td>157.00</td>\n",
       "      <td>sure why not</td>\n",
       "      <td>NaN</td>\n",
       "      <td>NaN</td>\n",
       "      <td>spoke three languages fluently detectable acce...</td>\n",
       "      <td>0.27</td>\n",
       "      <td>Positive</td>\n",
       "    </tr>\n",
       "    <tr>\n",
       "      <th>2</th>\n",
       "      <td>gfc_2</td>\n",
       "      <td>2023-10-27 00:00:00+00:00</td>\n",
       "      <td>https://factnameh.com/fa/fact-checks/2023-10-2...</td>\n",
       "      <td>فکت‌نامه</td>\n",
       "      <td>golda meir and the palestinian passport</td>\n",
       "      <td>طی هفته‌های اخیر با بالا گرفتن جنگ حماس و اسرا...</td>\n",
       "      <td>https://www.youtube.com/watch?v=w3FGvAMvYpc</td>\n",
       "      <td>fa</td>\n",
       "      <td>گمراه‌کننده</td>\n",
       "      <td>NaN</td>\n",
       "      <td>...</td>\n",
       "      <td>We need more leaders like her, women or men. S...</td>\n",
       "      <td>10.00</td>\n",
       "      <td>2018-09-16T16:24:02Z</td>\n",
       "      <td>148.00</td>\n",
       "      <td>elgrigorio1</td>\n",
       "      <td>NaN</td>\n",
       "      <td>NaN</td>\n",
       "      <td>we need leaders like her women men she knowled...</td>\n",
       "      <td>0.46</td>\n",
       "      <td>Positive</td>\n",
       "    </tr>\n",
       "    <tr>\n",
       "      <th>3</th>\n",
       "      <td>gfc_2</td>\n",
       "      <td>2023-10-27 00:00:00+00:00</td>\n",
       "      <td>https://factnameh.com/fa/fact-checks/2023-10-2...</td>\n",
       "      <td>فکت‌نامه</td>\n",
       "      <td>golda meir and the palestinian passport</td>\n",
       "      <td>طی هفته‌های اخیر با بالا گرفتن جنگ حماس و اسرا...</td>\n",
       "      <td>https://www.youtube.com/watch?v=w3FGvAMvYpc</td>\n",
       "      <td>fa</td>\n",
       "      <td>گمراه‌کننده</td>\n",
       "      <td>NaN</td>\n",
       "      <td>...</td>\n",
       "      <td>What a masterful interview by the Prime Minister.</td>\n",
       "      <td>1.00</td>\n",
       "      <td>2023-10-21T20:05:04Z</td>\n",
       "      <td>12.00</td>\n",
       "      <td>Wasim Raja</td>\n",
       "      <td>NaN</td>\n",
       "      <td>NaN</td>\n",
       "      <td>what masterful interview prime minister1202310...</td>\n",
       "      <td>1.00</td>\n",
       "      <td>Positive</td>\n",
       "    </tr>\n",
       "    <tr>\n",
       "      <th>4</th>\n",
       "      <td>gfc_2</td>\n",
       "      <td>2023-10-27 00:00:00+00:00</td>\n",
       "      <td>https://factnameh.com/fa/fact-checks/2023-10-2...</td>\n",
       "      <td>فکت‌نامه</td>\n",
       "      <td>golda meir and the palestinian passport</td>\n",
       "      <td>طی هفته‌های اخیر با بالا گرفتن جنگ حماس و اسرا...</td>\n",
       "      <td>https://www.youtube.com/watch?v=w3FGvAMvYpc</td>\n",
       "      <td>fa</td>\n",
       "      <td>گمراه‌کننده</td>\n",
       "      <td>NaN</td>\n",
       "      <td>...</td>\n",
       "      <td>What an interview!!!   She was very wise in he...</td>\n",
       "      <td>0.00</td>\n",
       "      <td>2023-10-13T19:47:49Z</td>\n",
       "      <td>15.00</td>\n",
       "      <td>Kelvin Quesenberry</td>\n",
       "      <td>NaN</td>\n",
       "      <td>NaN</td>\n",
       "      <td>what interview she wise answers…no fear critic...</td>\n",
       "      <td>0.32</td>\n",
       "      <td>Positive</td>\n",
       "    </tr>\n",
       "  </tbody>\n",
       "</table>\n",
       "<p>5 rows × 34 columns</p>\n",
       "</div>"
      ],
      "text/plain": [
       "  News_ID               publish_date  \\\n",
       "0   gfc_2  2023-10-27 00:00:00+00:00   \n",
       "1   gfc_2  2023-10-27 00:00:00+00:00   \n",
       "2   gfc_2  2023-10-27 00:00:00+00:00   \n",
       "3   gfc_2  2023-10-27 00:00:00+00:00   \n",
       "4   gfc_2  2023-10-27 00:00:00+00:00   \n",
       "\n",
       "                                                Link source_name  \\\n",
       "0  https://factnameh.com/fa/fact-checks/2023-10-2...    فکت‌نامه   \n",
       "1  https://factnameh.com/fa/fact-checks/2023-10-2...    فکت‌نامه   \n",
       "2  https://factnameh.com/fa/fact-checks/2023-10-2...    فکت‌نامه   \n",
       "3  https://factnameh.com/fa/fact-checks/2023-10-2...    فکت‌نامه   \n",
       "4  https://factnameh.com/fa/fact-checks/2023-10-2...    فکت‌نامه   \n",
       "\n",
       "                                     title  \\\n",
       "0  golda meir and the palestinian passport   \n",
       "1  golda meir and the palestinian passport   \n",
       "2  golda meir and the palestinian passport   \n",
       "3  golda meir and the palestinian passport   \n",
       "4  golda meir and the palestinian passport   \n",
       "\n",
       "                                                text  \\\n",
       "0  طی هفته‌های اخیر با بالا گرفتن جنگ حماس و اسرا...   \n",
       "1  طی هفته‌های اخیر با بالا گرفتن جنگ حماس و اسرا...   \n",
       "2  طی هفته‌های اخیر با بالا گرفتن جنگ حماس و اسرا...   \n",
       "3  طی هفته‌های اخیر با بالا گرفتن جنگ حماس و اسرا...   \n",
       "4  طی هفته‌های اخیر با بالا گرفتن جنگ حماس و اسرا...   \n",
       "\n",
       "                                  youtube_link news_language        label  \\\n",
       "0  https://www.youtube.com/watch?v=w3FGvAMvYpc            fa  گمراه‌کننده   \n",
       "1  https://www.youtube.com/watch?v=w3FGvAMvYpc            fa  گمراه‌کننده   \n",
       "2  https://www.youtube.com/watch?v=w3FGvAMvYpc            fa  گمراه‌کننده   \n",
       "3  https://www.youtube.com/watch?v=w3FGvAMvYpc            fa  گمراه‌کننده   \n",
       "4  https://www.youtube.com/watch?v=w3FGvAMvYpc            fa  گمراه‌کننده   \n",
       "\n",
       "  all_link  ...                                        commentText replycount  \\\n",
       "0      NaN  ...  Every single word she said was wisely thought ...       2.00   \n",
       "1      NaN  ...  Spoke three languages fluently with no detecta...      31.00   \n",
       "2      NaN  ...  We need more leaders like her, women or men. S...      10.00   \n",
       "3      NaN  ...  What a masterful interview by the Prime Minister.       1.00   \n",
       "4      NaN  ...  What an interview!!!   She was very wise in he...       0.00   \n",
       "\n",
       "            publishedAt likeCount   authorDisplayName commentText_processed  \\\n",
       "0  2023-05-20T23:58:29Z    107.00    Sebastian Peretz                   NaN   \n",
       "1  2023-01-10T22:27:12Z    157.00        sure why not                   NaN   \n",
       "2  2018-09-16T16:24:02Z    148.00         elgrigorio1                   NaN   \n",
       "3  2023-10-21T20:05:04Z     12.00          Wasim Raja                   NaN   \n",
       "4  2023-10-13T19:47:49Z     15.00  Kelvin Quesenberry                   NaN   \n",
       "\n",
       "  comment_language                                     Clean_Comments  \\\n",
       "0              NaN  every single word said wisely thought thus men...   \n",
       "1              NaN  spoke three languages fluently detectable acce...   \n",
       "2              NaN  we need leaders like her women men she knowled...   \n",
       "3              NaN  what masterful interview prime minister1202310...   \n",
       "4              NaN  what interview she wise answers…no fear critic...   \n",
       "\n",
       "  polarity  sentiment  \n",
       "0     0.40   Positive  \n",
       "1     0.27   Positive  \n",
       "2     0.46   Positive  \n",
       "3     1.00   Positive  \n",
       "4     0.32   Positive  \n",
       "\n",
       "[5 rows x 34 columns]"
      ]
     },
     "execution_count": 18,
     "metadata": {},
     "output_type": "execute_result"
    }
   ],
   "source": [
    "df.head()"
   ]
  },
  {
   "cell_type": "code",
   "execution_count": 19,
   "metadata": {
    "execution": {
     "iopub.execute_input": "2023-10-28T18:58:55.862546Z",
     "iopub.status.busy": "2023-10-28T18:58:55.862094Z",
     "iopub.status.idle": "2023-10-28T18:58:55.872097Z",
     "shell.execute_reply": "2023-10-28T18:58:55.870827Z",
     "shell.execute_reply.started": "2023-10-28T18:58:55.862503Z"
    }
   },
   "outputs": [
    {
     "data": {
      "text/plain": [
       "News_ID                   object\n",
       "publish_date              object\n",
       "Link                      object\n",
       "source_name               object\n",
       "title                     object\n",
       "text                      object\n",
       "youtube_link              object\n",
       "news_language             object\n",
       "label                     object\n",
       "all_link                  object\n",
       "videoId                   object\n",
       "video_url                 object\n",
       "video_title               object\n",
       "video_author              object\n",
       "video_length             float64\n",
       "video_channel_id          object\n",
       "video_channel_url         object\n",
       "video_description        float64\n",
       "video_publish_date        object\n",
       "video_rating             float64\n",
       "video_thumbnail_url       object\n",
       "video_views              float64\n",
       "video_age_restricted      object\n",
       "CommentsData              object\n",
       "commentText               object\n",
       "replycount                object\n",
       "publishedAt               object\n",
       "likeCount                float64\n",
       "authorDisplayName         object\n",
       "commentText_processed    float64\n",
       "comment_language         float64\n",
       "Clean_Comments            object\n",
       "polarity                 float64\n",
       "sentiment                 object\n",
       "dtype: object"
      ]
     },
     "execution_count": 19,
     "metadata": {},
     "output_type": "execute_result"
    }
   ],
   "source": [
    "df.dtypes"
   ]
  },
  {
   "cell_type": "code",
   "execution_count": 22,
   "metadata": {
    "execution": {
     "iopub.execute_input": "2023-10-28T19:02:32.867392Z",
     "iopub.status.busy": "2023-10-28T19:02:32.866764Z",
     "iopub.status.idle": "2023-10-28T19:02:32.881852Z",
     "shell.execute_reply": "2023-10-28T19:02:32.880629Z",
     "shell.execute_reply.started": "2023-10-28T19:02:32.867357Z"
    }
   },
   "outputs": [
    {
     "data": {
      "text/plain": [
       "sentiment\n",
       "0     51928\n",
       "1     23313\n",
       "-1     9987\n",
       "Name: count, dtype: int64"
      ]
     },
     "execution_count": 22,
     "metadata": {},
     "output_type": "execute_result"
    }
   ],
   "source": [
    "df['sentiment'].value_counts()"
   ]
  },
  {
   "cell_type": "code",
   "execution_count": 21,
   "metadata": {
    "execution": {
     "iopub.execute_input": "2023-10-28T19:02:30.007508Z",
     "iopub.status.busy": "2023-10-28T19:02:30.007062Z",
     "iopub.status.idle": "2023-10-28T19:02:30.044504Z",
     "shell.execute_reply": "2023-10-28T19:02:30.043314Z",
     "shell.execute_reply.started": "2023-10-28T19:02:30.007471Z"
    }
   },
   "outputs": [],
   "source": [
    "df.loc[df.sentiment == \"Neutral\", 'sentiment'] = 0\n",
    "df.loc[df.sentiment == \"Positive\", 'sentiment'] = 1\n",
    "df.loc[df.sentiment == \"Negative\", 'sentiment'] = -1"
   ]
  },
  {
   "cell_type": "code",
   "execution_count": 25,
   "metadata": {
    "execution": {
     "iopub.execute_input": "2023-10-28T19:04:23.018949Z",
     "iopub.status.busy": "2023-10-28T19:04:23.018555Z",
     "iopub.status.idle": "2023-10-28T19:04:23.471741Z",
     "shell.execute_reply": "2023-10-28T19:04:23.470918Z",
     "shell.execute_reply.started": "2023-10-28T19:04:23.018920Z"
    }
   },
   "outputs": [
    {
     "data": {
      "image/png": "[encoded data removed]",
      "text/plain": [
       "<Figure size 800x500 with 2 Axes>"
      ]
     },
     "metadata": {},
     "output_type": "display_data"
    }
   ],
   "source": [
    "# Plotting the Count and Proportional Distribution of comments based on sentiment as per polarity\n",
    "plt.subplot(1, 2, 1)\n",
    "\n",
    "# Plotting the count of comments for each sentiment\n",
    "sns.countplot(df['sentiment'],  )\n",
    "plt.gca().spines['top'].set_visible(False)\n",
    "plt.gca().spines['right'].set_visible(False)\n",
    "plt.xlabel('Sentiment')\n",
    "plt.ylabel('Number of Comments')\n",
    "plt.title('Distribution of Sentiments based on Polarity', fontsize=18)\n",
    "\n",
    "plt.subplot(1, 2, 2)\n",
    "# Plotting the proportional distribution of sentiments\n",
    "plt.pie(x=[len(df[df['polarity'] < 0]), len(df[df['polarity'] == 0]),\n",
    "           len(df[df['polarity'] > 0])], \n",
    "        labels=['Negative', 'Neutral', 'Positive'], autopct='%1.1f%%', pctdistance=0.5,\n",
    "        textprops={'fontsize':14, 'color':'white'})\n",
    "plt.title('Proportional Distribution of Sentiments')\n",
    "plt.legend()\n",
    "plt.show()"
   ]
  },
  {
   "cell_type": "code",
   "execution_count": 28,
   "metadata": {
    "execution": {
     "iopub.execute_input": "2023-10-28T19:07:15.043698Z",
     "iopub.status.busy": "2023-10-28T19:07:15.043213Z",
     "iopub.status.idle": "2023-10-28T19:07:15.058315Z",
     "shell.execute_reply": "2023-10-28T19:07:15.056897Z",
     "shell.execute_reply.started": "2023-10-28T19:07:15.043663Z"
    }
   },
   "outputs": [],
   "source": [
    "df[\"video_title\"] = df[\"video_title\"].fillna(value=\"\")"
   ]
  },
  {
   "cell_type": "code",
   "execution_count": 30,
   "metadata": {
    "execution": {
     "iopub.execute_input": "2023-10-28T19:08:28.498887Z",
     "iopub.status.busy": "2023-10-28T19:08:28.498474Z",
     "iopub.status.idle": "2023-10-28T19:08:28.850719Z",
     "shell.execute_reply": "2023-10-28T19:08:28.849463Z",
     "shell.execute_reply.started": "2023-10-28T19:08:28.498858Z"
    }
   },
   "outputs": [
    {
     "data": {
      "text/plain": [
       "[('|', 17168),\n",
       " ('in', 16580),\n",
       " ('of', 14632),\n",
       " ('-', 11997),\n",
       " ('Israel', 9443),\n",
       " ('to', 9435),\n",
       " ('Hamas', 7120),\n",
       " ('Israeli', 7058),\n",
       " ('How', 6768),\n",
       " ('the', 6470),\n",
       " ('News', 5954),\n",
       " ('and', 5737),\n",
       " ('Gaza', 5314),\n",
       " ('at', 5112),\n",
       " ('a', 4903),\n",
       " ('The', 4901),\n",
       " ('on', 4829),\n",
       " ('/', 4798),\n",
       " ('from', 4706),\n",
       " ('with', 4634),\n",
       " ('BBC', 4363),\n",
       " ('during', 4281),\n",
       " ('speech', 4004),\n",
       " ('attack', 3956),\n",
       " ('के', 3647)]"
      ]
     },
     "execution_count": 30,
     "metadata": {},
     "output_type": "execute_result"
    }
   ],
   "source": [
    "from collections import Counter\n",
    "#tf.columns = [\"YouTube Comments\", \"Term Occurrence\"]\n",
    "#tf.head()\n",
    "# most common words in video titles\n",
    "title_words = list(df[\"video_title\"].apply(lambda x: x.split()))\n",
    "title_words = [x for y in title_words for x in y]\n",
    "Counter(title_words).most_common(25)"
   ]
  },
  {
   "cell_type": "code",
   "execution_count": 32,
   "metadata": {
    "execution": {
     "iopub.execute_input": "2023-10-28T19:11:04.466297Z",
     "iopub.status.busy": "2023-10-28T19:11:04.465780Z",
     "iopub.status.idle": "2023-10-28T19:11:04.477093Z",
     "shell.execute_reply": "2023-10-28T19:11:04.475714Z",
     "shell.execute_reply.started": "2023-10-28T19:11:04.466258Z"
    }
   },
   "outputs": [
    {
     "data": {
      "text/plain": [
       "0        UChXQL4MqC4ihSVg3SFiszDg\n",
       "1        UChXQL4MqC4ihSVg3SFiszDg\n",
       "2        UChXQL4MqC4ihSVg3SFiszDg\n",
       "3        UChXQL4MqC4ihSVg3SFiszDg\n",
       "4        UChXQL4MqC4ihSVg3SFiszDg\n",
       "                   ...           \n",
       "85223    UCMliswJ7oukCeW35GSayhRA\n",
       "85224    UCMliswJ7oukCeW35GSayhRA\n",
       "85225    UCMliswJ7oukCeW35GSayhRA\n",
       "85226    UCMliswJ7oukCeW35GSayhRA\n",
       "85227    UCMliswJ7oukCeW35GSayhRA\n",
       "Name: video_channel_id, Length: 85228, dtype: object"
      ]
     },
     "execution_count": 32,
     "metadata": {},
     "output_type": "execute_result"
    }
   ],
   "source": [
    "df.video_channel_id"
   ]
  },
  {
   "cell_type": "code",
   "execution_count": 31,
   "metadata": {
    "execution": {
     "iopub.execute_input": "2023-10-28T19:09:42.946691Z",
     "iopub.status.busy": "2023-10-28T19:09:42.946076Z",
     "iopub.status.idle": "2023-10-28T19:09:42.953943Z",
     "shell.execute_reply": "2023-10-28T19:09:42.952739Z",
     "shell.execute_reply.started": "2023-10-28T19:09:42.946652Z"
    }
   },
   "outputs": [
    {
     "data": {
      "text/plain": [
       "Index(['News_ID', 'publish_date', 'Link', 'source_name', 'title', 'text',\n",
       "       'youtube_link', 'news_language', 'label', 'all_link', 'videoId',\n",
       "       'video_url', 'video_title', 'video_author', 'video_length',\n",
       "       'video_channel_id', 'video_channel_url', 'video_description',\n",
       "       'video_publish_date', 'video_rating', 'video_thumbnail_url',\n",
       "       'video_views', 'video_age_restricted', 'CommentsData', 'commentText',\n",
       "       'replycount', 'publishedAt', 'likeCount', 'authorDisplayName',\n",
       "       'commentText_processed', 'comment_language', 'Clean_Comments',\n",
       "       'polarity', 'sentiment'],\n",
       "      dtype='object')"
      ]
     },
     "execution_count": 31,
     "metadata": {},
     "output_type": "execute_result"
    }
   ],
   "source": [
    "df.columns"
   ]
  },
  {
   "cell_type": "code",
   "execution_count": 33,
   "metadata": {
    "execution": {
     "iopub.execute_input": "2023-10-28T19:12:23.812921Z",
     "iopub.status.busy": "2023-10-28T19:12:23.812502Z",
     "iopub.status.idle": "2023-10-28T19:12:24.303108Z",
     "shell.execute_reply": "2023-10-28T19:12:24.301836Z",
     "shell.execute_reply.started": "2023-10-28T19:12:23.812891Z"
    }
   },
   "outputs": [
    {
     "data": {
      "image/png": "[encoded data removed]",
      "text/plain": [
       "<Figure size 800x800 with 1 Axes>"
      ]
     },
     "metadata": {},
     "output_type": "display_data"
    }
   ],
   "source": [
    "cdf = df.groupby(\"video_channel_id\").size().reset_index(name=\"video_views\") \\\n",
    "    .sort_values(\"video_views\", ascending=False).head(20)\n",
    "\n",
    "fig, ax = plt.subplots(figsize=(8,8))\n",
    "_ = sns.barplot(x=\"video_views\", y=\"video_channel_id\", data=cdf,\n",
    "                palette=sns.cubehelix_palette(n_colors=20, reverse=True), ax=ax)\n",
    "_ = ax.set(xlabel=\"No. of videos\", ylabel=\"Channel\")"
   ]
  },
  {
   "cell_type": "markdown",
   "metadata": {},
   "source": [
    "## Video Views\n",
    "\n",
    "Now plot a histogram for the views column to take a look at its distribution: to see how many videos have between 10 million and 20 million views, how many videos have between 20 million and 30 million views, and so on."
   ]
  },
  {
   "cell_type": "code",
   "execution_count": 27,
   "metadata": {
    "execution": {
     "iopub.execute_input": "2023-10-28T17:36:40.133382Z",
     "iopub.status.busy": "2023-10-28T17:36:40.132998Z",
     "iopub.status.idle": "2023-10-28T17:36:40.725767Z",
     "shell.execute_reply": "2023-10-28T17:36:40.724624Z",
     "shell.execute_reply.started": "2023-10-28T17:36:40.133352Z"
    }
   },
   "outputs": [
    {
     "data": {
      "image/png": "[encoded data removed]",
      "text/plain": [
       "<Figure size 800x500 with 1 Axes>"
      ]
     },
     "metadata": {},
     "output_type": "display_data"
    }
   ],
   "source": [
    "fig, ax = plt.subplots()\n",
    "_ = sns.distplot(df[\"video_views\"], kde=False, color=PLOT_COLORS[4], \n",
    "                 hist_kws={'alpha': 1}, bins=np.linspace(0, 2.3e8, 47), ax=ax)\n",
    "_ = ax.set(xlabel=\"Views\", ylabel=\"No. of videos\", xticks=np.arange(0, 2.4e8, 1e7))\n",
    "_ = ax.set_xlim(right=2.5e8)\n",
    "_ = plt.xticks(rotation=90)"
   ]
  },
  {
   "cell_type": "markdown",
   "metadata": {},
   "source": [
    "Here vast majority of trending videos have 5 million views or less. We get the 5 million number by calculating\n",
    "\n",
    "0.1×10^{8} / 2 = 5×10^{6}\n",
    "\n",
    "Now let us plot the histogram just for videos with 25 million views or less to get a closer look at the distribution of the data"
   ]
  },
  {
   "cell_type": "code",
   "execution_count": 28,
   "metadata": {
    "execution": {
     "iopub.execute_input": "2023-10-28T17:36:59.205753Z",
     "iopub.status.busy": "2023-10-28T17:36:59.204657Z",
     "iopub.status.idle": "2023-10-28T17:36:59.674036Z",
     "shell.execute_reply": "2023-10-28T17:36:59.672962Z",
     "shell.execute_reply.started": "2023-10-28T17:36:59.205710Z"
    }
   },
   "outputs": [
    {
     "data": {
      "image/png": "[encoded data removed]",
      "text/plain": [
       "<Figure size 800x500 with 1 Axes>"
      ]
     },
     "metadata": {},
     "output_type": "display_data"
    }
   ],
   "source": [
    "fig, ax = plt.subplots()\n",
    "_ = sns.distplot(df[df[\"video_views\"] < 25e6][\"video_views\"], kde=False, \n",
    "                 color=PLOT_COLORS[4], hist_kws={'alpha': 1}, ax=ax)\n",
    "_ = ax.set(xlabel=\"Views\", ylabel=\"No. of videos\")"
   ]
  },
  {
   "cell_type": "code",
   "execution_count": 29,
   "metadata": {
    "execution": {
     "iopub.execute_input": "2023-10-28T17:37:11.333918Z",
     "iopub.status.busy": "2023-10-28T17:37:11.333480Z",
     "iopub.status.idle": "2023-10-28T17:37:11.370457Z",
     "shell.execute_reply": "2023-10-28T17:37:11.369398Z",
     "shell.execute_reply.started": "2023-10-28T17:37:11.333884Z"
    }
   },
   "outputs": [
    {
     "data": {
      "text/plain": [
       "69.01380276055211"
      ]
     },
     "execution_count": 29,
     "metadata": {},
     "output_type": "execute_result"
    }
   ],
   "source": [
    "# Now we see that the majority of trending videos have 2 million views or less. \n",
    "# Let's see the exact percentage of videos less than 2 million views\n",
    "\n",
    "df[df['video_views'] < 2e6]['video_views'].count() / df['video_views'].count() * 100"
   ]
  },
  {
   "cell_type": "code",
   "execution_count": 30,
   "metadata": {
    "execution": {
     "iopub.execute_input": "2023-10-28T17:37:13.039886Z",
     "iopub.status.busy": "2023-10-28T17:37:13.039486Z",
     "iopub.status.idle": "2023-10-28T17:37:13.078862Z",
     "shell.execute_reply": "2023-10-28T17:37:13.077702Z",
     "shell.execute_reply.started": "2023-10-28T17:37:13.039853Z"
    }
   },
   "outputs": [
    {
     "data": {
      "text/plain": [
       "76.00578939317275"
      ]
     },
     "execution_count": 30,
     "metadata": {},
     "output_type": "execute_result"
    }
   ],
   "source": [
    "# 3M views\n",
    "df[df['video_views'] < 3e6]['video_views'].count() / df['video_views'].count() * 100"
   ]
  },
  {
   "cell_type": "code",
   "execution_count": 31,
   "metadata": {
    "execution": {
     "iopub.execute_input": "2023-10-28T17:37:17.274177Z",
     "iopub.status.busy": "2023-10-28T17:37:17.273782Z",
     "iopub.status.idle": "2023-10-28T17:37:18.017758Z",
     "shell.execute_reply": "2023-10-28T17:37:18.016635Z",
     "shell.execute_reply.started": "2023-10-28T17:37:17.274141Z"
    }
   },
   "outputs": [
    {
     "data": {
      "text/html": [
       "<div>\n",
       "<style scoped>\n",
       "    .dataframe tbody tr th:only-of-type {\n",
       "        vertical-align: middle;\n",
       "    }\n",
       "\n",
       "    .dataframe tbody tr th {\n",
       "        vertical-align: top;\n",
       "    }\n",
       "\n",
       "    .dataframe thead th {\n",
       "        text-align: right;\n",
       "    }\n",
       "</style>\n",
       "<table border=\"1\" class=\"dataframe\">\n",
       "  <thead>\n",
       "    <tr style=\"text-align: right;\">\n",
       "      <th></th>\n",
       "      <th>News_ID</th>\n",
       "      <th>publish_date</th>\n",
       "      <th>Link</th>\n",
       "      <th>source_name</th>\n",
       "      <th>title</th>\n",
       "      <th>text</th>\n",
       "      <th>youtube_link</th>\n",
       "      <th>news_language</th>\n",
       "      <th>label</th>\n",
       "      <th>all_link</th>\n",
       "      <th>...</th>\n",
       "      <th>video_channel_id</th>\n",
       "      <th>video_channel_url</th>\n",
       "      <th>video_publish_date</th>\n",
       "      <th>video_thumbnail_url</th>\n",
       "      <th>video_age_restricted</th>\n",
       "      <th>CommentsData</th>\n",
       "      <th>commentText</th>\n",
       "      <th>replycount</th>\n",
       "      <th>publishedAt</th>\n",
       "      <th>authorDisplayName</th>\n",
       "    </tr>\n",
       "  </thead>\n",
       "  <tbody>\n",
       "    <tr>\n",
       "      <th>count</th>\n",
       "      <td>85228</td>\n",
       "      <td>85228</td>\n",
       "      <td>85228</td>\n",
       "      <td>85228</td>\n",
       "      <td>85228</td>\n",
       "      <td>85228</td>\n",
       "      <td>85228</td>\n",
       "      <td>85228</td>\n",
       "      <td>43995</td>\n",
       "      <td>4639</td>\n",
       "      <td>...</td>\n",
       "      <td>84983</td>\n",
       "      <td>84983</td>\n",
       "      <td>84983</td>\n",
       "      <td>84983</td>\n",
       "      <td>84983</td>\n",
       "      <td>85228</td>\n",
       "      <td>71585</td>\n",
       "      <td>71540</td>\n",
       "      <td>71540</td>\n",
       "      <td>71529</td>\n",
       "    </tr>\n",
       "    <tr>\n",
       "      <th>unique</th>\n",
       "      <td>220</td>\n",
       "      <td>46</td>\n",
       "      <td>220</td>\n",
       "      <td>37</td>\n",
       "      <td>219</td>\n",
       "      <td>214</td>\n",
       "      <td>302</td>\n",
       "      <td>19</td>\n",
       "      <td>51</td>\n",
       "      <td>7</td>\n",
       "      <td>...</td>\n",
       "      <td>222</td>\n",
       "      <td>222</td>\n",
       "      <td>191</td>\n",
       "      <td>301</td>\n",
       "      <td>2</td>\n",
       "      <td>85091</td>\n",
       "      <td>69181</td>\n",
       "      <td>272</td>\n",
       "      <td>71076</td>\n",
       "      <td>64245</td>\n",
       "    </tr>\n",
       "    <tr>\n",
       "      <th>top</th>\n",
       "      <td>gfc_50</td>\n",
       "      <td>2023-10-13</td>\n",
       "      <td>https://www.logicallyfacts.com/en/fact-check/f...</td>\n",
       "      <td>PolitiFact</td>\n",
       "      <td>victims of hamas attack on music festival were...</td>\n",
       "      <td>victims of hamas attack on music festival were...</td>\n",
       "      <td>https://www.youtube.com/watch?v=8xQ5wdilf4Y&amp;ab...</td>\n",
       "      <td>en</td>\n",
       "      <td>False</td>\n",
       "      <td>['https://mythdetector.ge/en/about-us/', 'http...</td>\n",
       "      <td>...</td>\n",
       "      <td>UCNye-wNBqNL5ZzHSJj3l8Bg</td>\n",
       "      <td>https://www.youtube.com/channel/UCNye-wNBqNL5Z...</td>\n",
       "      <td>2023-10-09 00:00:00</td>\n",
       "      <td>https://i.ytimg.com/vi/8xQ5wdilf4Y/hq720.jpg?s...</td>\n",
       "      <td>False</td>\n",
       "      <td>&lt;br&gt;</td>\n",
       "      <td>❤</td>\n",
       "      <td>0</td>\n",
       "      <td>2023-10-24T14:21:11Z</td>\n",
       "      <td>Dimples Harper Shannin Devfons Mcvicker Lil beL</td>\n",
       "    </tr>\n",
       "    <tr>\n",
       "      <th>freq</th>\n",
       "      <td>2860</td>\n",
       "      <td>6039</td>\n",
       "      <td>2860</td>\n",
       "      <td>12696</td>\n",
       "      <td>2860</td>\n",
       "      <td>2860</td>\n",
       "      <td>1463</td>\n",
       "      <td>58544</td>\n",
       "      <td>10396</td>\n",
       "      <td>1306</td>\n",
       "      <td>...</td>\n",
       "      <td>4529</td>\n",
       "      <td>4529</td>\n",
       "      <td>4421</td>\n",
       "      <td>1463</td>\n",
       "      <td>78371</td>\n",
       "      <td>59</td>\n",
       "      <td>66</td>\n",
       "      <td>35246</td>\n",
       "      <td>38</td>\n",
       "      <td>192</td>\n",
       "    </tr>\n",
       "  </tbody>\n",
       "</table>\n",
       "<p>4 rows × 24 columns</p>\n",
       "</div>"
      ],
      "text/plain": [
       "       News_ID publish_date  \\\n",
       "count    85228        85228   \n",
       "unique     220           46   \n",
       "top     gfc_50   2023-10-13   \n",
       "freq      2860         6039   \n",
       "\n",
       "                                                     Link source_name  \\\n",
       "count                                               85228       85228   \n",
       "unique                                                220          37   \n",
       "top     https://www.logicallyfacts.com/en/fact-check/f...  PolitiFact   \n",
       "freq                                                 2860       12696   \n",
       "\n",
       "                                                    title  \\\n",
       "count                                               85228   \n",
       "unique                                                219   \n",
       "top     victims of hamas attack on music festival were...   \n",
       "freq                                                 2860   \n",
       "\n",
       "                                                     text  \\\n",
       "count                                               85228   \n",
       "unique                                                214   \n",
       "top     victims of hamas attack on music festival were...   \n",
       "freq                                                 2860   \n",
       "\n",
       "                                             youtube_link news_language  \\\n",
       "count                                               85228         85228   \n",
       "unique                                                302            19   \n",
       "top     https://www.youtube.com/watch?v=8xQ5wdilf4Y&ab...            en   \n",
       "freq                                                 1463         58544   \n",
       "\n",
       "        label                                           all_link  ...  \\\n",
       "count   43995                                               4639  ...   \n",
       "unique     51                                                  7  ...   \n",
       "top     False  ['https://mythdetector.ge/en/about-us/', 'http...  ...   \n",
       "freq    10396                                               1306  ...   \n",
       "\n",
       "                video_channel_id  \\\n",
       "count                      84983   \n",
       "unique                       222   \n",
       "top     UCNye-wNBqNL5ZzHSJj3l8Bg   \n",
       "freq                        4529   \n",
       "\n",
       "                                        video_channel_url  \\\n",
       "count                                               84983   \n",
       "unique                                                222   \n",
       "top     https://www.youtube.com/channel/UCNye-wNBqNL5Z...   \n",
       "freq                                                 4529   \n",
       "\n",
       "         video_publish_date  \\\n",
       "count                 84983   \n",
       "unique                  191   \n",
       "top     2023-10-09 00:00:00   \n",
       "freq                   4421   \n",
       "\n",
       "                                      video_thumbnail_url  \\\n",
       "count                                               84983   \n",
       "unique                                                301   \n",
       "top     https://i.ytimg.com/vi/8xQ5wdilf4Y/hq720.jpg?s...   \n",
       "freq                                                 1463   \n",
       "\n",
       "       video_age_restricted CommentsData commentText replycount  \\\n",
       "count                 84983        85228       71585      71540   \n",
       "unique                    2        85091       69181        272   \n",
       "top                   False         <br>           ❤          0   \n",
       "freq                  78371           59          66      35246   \n",
       "\n",
       "                 publishedAt                                 authorDisplayName  \n",
       "count                  71540                                             71529  \n",
       "unique                 71076                                             64245  \n",
       "top     2023-10-24T14:21:11Z  Dimples Harper Shannin Devfons Mcvicker Lil beL   \n",
       "freq                      38                                               192  \n",
       "\n",
       "[4 rows x 24 columns]"
      ]
     },
     "execution_count": 31,
     "metadata": {},
     "output_type": "execute_result"
    }
   ],
   "source": [
    "# non-numeric cols\n",
    "df.describe(include = ['O'])"
   ]
  },
  {
   "cell_type": "markdown",
   "metadata": {},
   "source": [
    "From the table above, we can see that there are 46 unique publish dates and 191 unique video publish dates, which means that our dataset contains collected data about trending videos over 30 days.\n",
    "\n",
    "\n",
    "From video_channel_id description, we can see that there are 84983 videos (which is expected because our dataset contains 85228 entries), but we can see also that there are only 222 unique videos which means that some videos appeared on the trending videos list on more than one day. The table also tells us that the top frequent title is CNN team ducks from 'massive barrage of rocket... and that it appeared 516 times on the trending videos list.\n",
    "\n",
    "But there is something strange in the description table above: Because there are 222 unique video IDs, we expect to have 222 unique video titles also, because we assume that each ID is linked to a corresponding title. One possible interpretation is that a trending video had some title when it appeared on the trending list, then it appeared again on another day but with a modified title. Similar explaination applies for description column as well. For video_publish_date column, the unique values are less than 222, but there is nothing strange here, because two different videos may be published at the same time.\n",
    "\n",
    "To verify our interpretation for title column, let's take a look at an example where a trending video appeared more than once on the trending list but with different titles"
   ]
  },
  {
   "cell_type": "code",
   "execution_count": 32,
   "metadata": {
    "execution": {
     "iopub.execute_input": "2023-10-28T17:40:16.550252Z",
     "iopub.status.busy": "2023-10-28T17:40:16.549758Z",
     "iopub.status.idle": "2023-10-28T17:40:16.752782Z",
     "shell.execute_reply": "2023-10-28T17:40:16.751608Z",
     "shell.execute_reply.started": "2023-10-28T17:40:16.550218Z"
    }
   },
   "outputs": [
    {
     "data": {
      "text/html": [
       "<div>\n",
       "<style scoped>\n",
       "    .dataframe tbody tr th:only-of-type {\n",
       "        vertical-align: middle;\n",
       "    }\n",
       "\n",
       "    .dataframe tbody tr th {\n",
       "        vertical-align: top;\n",
       "    }\n",
       "\n",
       "    .dataframe thead th {\n",
       "        text-align: right;\n",
       "    }\n",
       "</style>\n",
       "<table border=\"1\" class=\"dataframe\">\n",
       "  <thead>\n",
       "    <tr style=\"text-align: right;\">\n",
       "      <th></th>\n",
       "      <th>News_ID</th>\n",
       "      <th>publish_date</th>\n",
       "      <th>Link</th>\n",
       "      <th>source_name</th>\n",
       "      <th>title</th>\n",
       "      <th>text</th>\n",
       "      <th>youtube_link</th>\n",
       "      <th>news_language</th>\n",
       "      <th>label</th>\n",
       "      <th>all_link</th>\n",
       "      <th>...</th>\n",
       "      <th>video_views</th>\n",
       "      <th>video_age_restricted</th>\n",
       "      <th>CommentsData</th>\n",
       "      <th>commentText</th>\n",
       "      <th>replycount</th>\n",
       "      <th>publishedAt</th>\n",
       "      <th>likeCount</th>\n",
       "      <th>authorDisplayName</th>\n",
       "      <th>commentText_processed</th>\n",
       "      <th>comment_language</th>\n",
       "    </tr>\n",
       "  </thead>\n",
       "  <tbody>\n",
       "    <tr>\n",
       "      <th>49590</th>\n",
       "      <td>pubmedia_80</td>\n",
       "      <td>2023-10-26</td>\n",
       "      <td>http://www.politifact.com/article/2023/oct/26/...</td>\n",
       "      <td>PolitiFact</td>\n",
       "      <td>Did Donald Trump make these 27 campaign promis...</td>\n",
       "      <td>A liberal group says former President Donald T...</td>\n",
       "      <td>https://www.youtube.com/watch?v=oqI2M4jBliM</td>\n",
       "      <td>en</td>\n",
       "      <td>NaN</td>\n",
       "      <td>NaN</td>\n",
       "      <td>...</td>\n",
       "      <td>689808.00</td>\n",
       "      <td>False</td>\n",
       "      <td>The world would be a better place with Trump i...</td>\n",
       "      <td>The world would be a better place with Trump i...</td>\n",
       "      <td>35</td>\n",
       "      <td>2023-05-03T22:02:25Z</td>\n",
       "      <td>429.00</td>\n",
       "      <td>David Crane</td>\n",
       "      <td>NaN</td>\n",
       "      <td>NaN</td>\n",
       "    </tr>\n",
       "    <tr>\n",
       "      <th>49591</th>\n",
       "      <td>pubmedia_80</td>\n",
       "      <td>2023-10-26</td>\n",
       "      <td>http://www.politifact.com/article/2023/oct/26/...</td>\n",
       "      <td>PolitiFact</td>\n",
       "      <td>Did Donald Trump make these 27 campaign promis...</td>\n",
       "      <td>A liberal group says former President Donald T...</td>\n",
       "      <td>https://www.youtube.com/watch?v=oqI2M4jBliM</td>\n",
       "      <td>en</td>\n",
       "      <td>NaN</td>\n",
       "      <td>NaN</td>\n",
       "      <td>...</td>\n",
       "      <td>689808.00</td>\n",
       "      <td>False</td>\n",
       "      <td>Wow, a POTUS that can speak an entire sentance...</td>\n",
       "      <td>Wow, a POTUS that can speak an entire sentance...</td>\n",
       "      <td>123</td>\n",
       "      <td>2023-05-06T00:16:21Z</td>\n",
       "      <td>836.00</td>\n",
       "      <td>petercallinicos</td>\n",
       "      <td>NaN</td>\n",
       "      <td>NaN</td>\n",
       "    </tr>\n",
       "    <tr>\n",
       "      <th>49592</th>\n",
       "      <td>pubmedia_80</td>\n",
       "      <td>2023-10-26</td>\n",
       "      <td>http://www.politifact.com/article/2023/oct/26/...</td>\n",
       "      <td>PolitiFact</td>\n",
       "      <td>Did Donald Trump make these 27 campaign promis...</td>\n",
       "      <td>A liberal group says former President Donald T...</td>\n",
       "      <td>https://www.youtube.com/watch?v=oqI2M4jBliM</td>\n",
       "      <td>en</td>\n",
       "      <td>NaN</td>\n",
       "      <td>NaN</td>\n",
       "      <td>...</td>\n",
       "      <td>689808.00</td>\n",
       "      <td>False</td>\n",
       "      <td>Watching here in Boston as a fan of President ...</td>\n",
       "      <td>Watching here in Boston as a fan of President ...</td>\n",
       "      <td>17</td>\n",
       "      <td>2023-05-05T19:27:34Z</td>\n",
       "      <td>150.00</td>\n",
       "      <td>Kitchen Table Issues with Michael D</td>\n",
       "      <td>NaN</td>\n",
       "      <td>NaN</td>\n",
       "    </tr>\n",
       "    <tr>\n",
       "      <th>49593</th>\n",
       "      <td>pubmedia_80</td>\n",
       "      <td>2023-10-26</td>\n",
       "      <td>http://www.politifact.com/article/2023/oct/26/...</td>\n",
       "      <td>PolitiFact</td>\n",
       "      <td>Did Donald Trump make these 27 campaign promis...</td>\n",
       "      <td>A liberal group says former President Donald T...</td>\n",
       "      <td>https://www.youtube.com/watch?v=oqI2M4jBliM</td>\n",
       "      <td>en</td>\n",
       "      <td>NaN</td>\n",
       "      <td>NaN</td>\n",
       "      <td>...</td>\n",
       "      <td>689808.00</td>\n",
       "      <td>False</td>\n",
       "      <td>I&amp;#39;M a Brit, no way in a hundred  years wou...</td>\n",
       "      <td>I&amp;#39;M a Brit, no way in a hundred  years wou...</td>\n",
       "      <td>36</td>\n",
       "      <td>2023-05-06T19:29:06Z</td>\n",
       "      <td>344.00</td>\n",
       "      <td>TIC TOC</td>\n",
       "      <td>NaN</td>\n",
       "      <td>NaN</td>\n",
       "    </tr>\n",
       "    <tr>\n",
       "      <th>49594</th>\n",
       "      <td>pubmedia_80</td>\n",
       "      <td>2023-10-26</td>\n",
       "      <td>http://www.politifact.com/article/2023/oct/26/...</td>\n",
       "      <td>PolitiFact</td>\n",
       "      <td>Did Donald Trump make these 27 campaign promis...</td>\n",
       "      <td>A liberal group says former President Donald T...</td>\n",
       "      <td>https://www.youtube.com/watch?v=oqI2M4jBliM</td>\n",
       "      <td>en</td>\n",
       "      <td>NaN</td>\n",
       "      <td>NaN</td>\n",
       "      <td>...</td>\n",
       "      <td>689808.00</td>\n",
       "      <td>False</td>\n",
       "      <td>Two straight talking men not tiptoeing around ...</td>\n",
       "      <td>Two straight talking men not tiptoeing around ...</td>\n",
       "      <td>12</td>\n",
       "      <td>2023-05-06T14:14:57Z</td>\n",
       "      <td>164.00</td>\n",
       "      <td>Mr Brown</td>\n",
       "      <td>NaN</td>\n",
       "      <td>NaN</td>\n",
       "    </tr>\n",
       "    <tr>\n",
       "      <th>...</th>\n",
       "      <td>...</td>\n",
       "      <td>...</td>\n",
       "      <td>...</td>\n",
       "      <td>...</td>\n",
       "      <td>...</td>\n",
       "      <td>...</td>\n",
       "      <td>...</td>\n",
       "      <td>...</td>\n",
       "      <td>...</td>\n",
       "      <td>...</td>\n",
       "      <td>...</td>\n",
       "      <td>...</td>\n",
       "      <td>...</td>\n",
       "      <td>...</td>\n",
       "      <td>...</td>\n",
       "      <td>...</td>\n",
       "      <td>...</td>\n",
       "      <td>...</td>\n",
       "      <td>...</td>\n",
       "      <td>...</td>\n",
       "      <td>...</td>\n",
       "    </tr>\n",
       "    <tr>\n",
       "      <th>63079</th>\n",
       "      <td>pubmedia_343</td>\n",
       "      <td>2023-10-18</td>\n",
       "      <td>https://fullfact.org/health/survey-sexual-assa...</td>\n",
       "      <td>Full Fact</td>\n",
       "      <td>Survey on sexual assault in surgery may not be...</td>\n",
       "      <td>18 October 2023\\n\\nThis comes from a survey of...</td>\n",
       "      <td>https://www.youtube.com/watch?v=9Y6UA3yil80</td>\n",
       "      <td>en</td>\n",
       "      <td>NaN</td>\n",
       "      <td>NaN</td>\n",
       "      <td>...</td>\n",
       "      <td>13331.00</td>\n",
       "      <td>False</td>\n",
       "      <td>The nhs has become joke. It should be broken u...</td>\n",
       "      <td>The nhs has become joke. It should be broken u...</td>\n",
       "      <td>1</td>\n",
       "      <td>2023-09-15T03:28:51Z</td>\n",
       "      <td>0.00</td>\n",
       "      <td>John -</td>\n",
       "      <td>NaN</td>\n",
       "      <td>NaN</td>\n",
       "    </tr>\n",
       "    <tr>\n",
       "      <th>63080</th>\n",
       "      <td>pubmedia_343</td>\n",
       "      <td>2023-10-18</td>\n",
       "      <td>https://fullfact.org/health/survey-sexual-assa...</td>\n",
       "      <td>Full Fact</td>\n",
       "      <td>Survey on sexual assault in surgery may not be...</td>\n",
       "      <td>18 October 2023\\n\\nThis comes from a survey of...</td>\n",
       "      <td>https://www.youtube.com/watch?v=9Y6UA3yil80</td>\n",
       "      <td>en</td>\n",
       "      <td>NaN</td>\n",
       "      <td>NaN</td>\n",
       "      <td>...</td>\n",
       "      <td>13331.00</td>\n",
       "      <td>False</td>\n",
       "      <td>I don’t care----0----2023-09-12T13:19:52Z----4...</td>\n",
       "      <td>I don’t care</td>\n",
       "      <td>0</td>\n",
       "      <td>2023-09-12T13:19:52Z</td>\n",
       "      <td>4.00</td>\n",
       "      <td>Abdurahman Mohamed</td>\n",
       "      <td>NaN</td>\n",
       "      <td>NaN</td>\n",
       "    </tr>\n",
       "    <tr>\n",
       "      <th>63081</th>\n",
       "      <td>pubmedia_343</td>\n",
       "      <td>2023-10-18</td>\n",
       "      <td>https://fullfact.org/health/survey-sexual-assa...</td>\n",
       "      <td>Full Fact</td>\n",
       "      <td>Survey on sexual assault in surgery may not be...</td>\n",
       "      <td>18 October 2023\\n\\nThis comes from a survey of...</td>\n",
       "      <td>https://www.youtube.com/watch?v=9Y6UA3yil80</td>\n",
       "      <td>en</td>\n",
       "      <td>NaN</td>\n",
       "      <td>NaN</td>\n",
       "      <td>...</td>\n",
       "      <td>13331.00</td>\n",
       "      <td>False</td>\n",
       "      <td>Feminist statistics----0----2023-09-12T17:17:2...</td>\n",
       "      <td>Feminist statistics</td>\n",
       "      <td>0</td>\n",
       "      <td>2023-09-12T17:17:26Z</td>\n",
       "      <td>2.00</td>\n",
       "      <td>alex smith</td>\n",
       "      <td>NaN</td>\n",
       "      <td>NaN</td>\n",
       "    </tr>\n",
       "    <tr>\n",
       "      <th>63082</th>\n",
       "      <td>pubmedia_343</td>\n",
       "      <td>2023-10-18</td>\n",
       "      <td>https://fullfact.org/health/survey-sexual-assa...</td>\n",
       "      <td>Full Fact</td>\n",
       "      <td>Survey on sexual assault in surgery may not be...</td>\n",
       "      <td>18 October 2023\\n\\nThis comes from a survey of...</td>\n",
       "      <td>https://www.youtube.com/watch?v=9Y6UA3yil80</td>\n",
       "      <td>en</td>\n",
       "      <td>NaN</td>\n",
       "      <td>NaN</td>\n",
       "      <td>...</td>\n",
       "      <td>13331.00</td>\n",
       "      <td>False</td>\n",
       "      <td>Bullying is rife too in the NHS----2----2023-0...</td>\n",
       "      <td>Bullying is rife too in the NHS</td>\n",
       "      <td>2</td>\n",
       "      <td>2023-09-12T18:18:20Z</td>\n",
       "      <td>1.00</td>\n",
       "      <td>shane humberstone</td>\n",
       "      <td>NaN</td>\n",
       "      <td>NaN</td>\n",
       "    </tr>\n",
       "    <tr>\n",
       "      <th>63083</th>\n",
       "      <td>pubmedia_343</td>\n",
       "      <td>2023-10-18</td>\n",
       "      <td>https://fullfact.org/health/survey-sexual-assa...</td>\n",
       "      <td>Full Fact</td>\n",
       "      <td>Survey on sexual assault in surgery may not be...</td>\n",
       "      <td>18 October 2023\\n\\nThis comes from a survey of...</td>\n",
       "      <td>https://www.youtube.com/watch?v=9Y6UA3yil80</td>\n",
       "      <td>en</td>\n",
       "      <td>NaN</td>\n",
       "      <td>NaN</td>\n",
       "      <td>...</td>\n",
       "      <td>13331.00</td>\n",
       "      <td>False</td>\n",
       "      <td>Oh no! Someone lightly touched you or complime...</td>\n",
       "      <td>Oh no! Someone lightly touched you or complime...</td>\n",
       "      <td>0</td>\n",
       "      <td>2023-09-12T23:46:48Z</td>\n",
       "      <td>1.00</td>\n",
       "      <td>Finnisbored</td>\n",
       "      <td>NaN</td>\n",
       "      <td>NaN</td>\n",
       "    </tr>\n",
       "  </tbody>\n",
       "</table>\n",
       "<p>1175 rows × 31 columns</p>\n",
       "</div>"
      ],
      "text/plain": [
       "            News_ID publish_date  \\\n",
       "49590   pubmedia_80   2023-10-26   \n",
       "49591   pubmedia_80   2023-10-26   \n",
       "49592   pubmedia_80   2023-10-26   \n",
       "49593   pubmedia_80   2023-10-26   \n",
       "49594   pubmedia_80   2023-10-26   \n",
       "...             ...          ...   \n",
       "63079  pubmedia_343   2023-10-18   \n",
       "63080  pubmedia_343   2023-10-18   \n",
       "63081  pubmedia_343   2023-10-18   \n",
       "63082  pubmedia_343   2023-10-18   \n",
       "63083  pubmedia_343   2023-10-18   \n",
       "\n",
       "                                                    Link source_name  \\\n",
       "49590  http://www.politifact.com/article/2023/oct/26/...  PolitiFact   \n",
       "49591  http://www.politifact.com/article/2023/oct/26/...  PolitiFact   \n",
       "49592  http://www.politifact.com/article/2023/oct/26/...  PolitiFact   \n",
       "49593  http://www.politifact.com/article/2023/oct/26/...  PolitiFact   \n",
       "49594  http://www.politifact.com/article/2023/oct/26/...  PolitiFact   \n",
       "...                                                  ...         ...   \n",
       "63079  https://fullfact.org/health/survey-sexual-assa...   Full Fact   \n",
       "63080  https://fullfact.org/health/survey-sexual-assa...   Full Fact   \n",
       "63081  https://fullfact.org/health/survey-sexual-assa...   Full Fact   \n",
       "63082  https://fullfact.org/health/survey-sexual-assa...   Full Fact   \n",
       "63083  https://fullfact.org/health/survey-sexual-assa...   Full Fact   \n",
       "\n",
       "                                                   title  \\\n",
       "49590  Did Donald Trump make these 27 campaign promis...   \n",
       "49591  Did Donald Trump make these 27 campaign promis...   \n",
       "49592  Did Donald Trump make these 27 campaign promis...   \n",
       "49593  Did Donald Trump make these 27 campaign promis...   \n",
       "49594  Did Donald Trump make these 27 campaign promis...   \n",
       "...                                                  ...   \n",
       "63079  Survey on sexual assault in surgery may not be...   \n",
       "63080  Survey on sexual assault in surgery may not be...   \n",
       "63081  Survey on sexual assault in surgery may not be...   \n",
       "63082  Survey on sexual assault in surgery may not be...   \n",
       "63083  Survey on sexual assault in surgery may not be...   \n",
       "\n",
       "                                                    text  \\\n",
       "49590  A liberal group says former President Donald T...   \n",
       "49591  A liberal group says former President Donald T...   \n",
       "49592  A liberal group says former President Donald T...   \n",
       "49593  A liberal group says former President Donald T...   \n",
       "49594  A liberal group says former President Donald T...   \n",
       "...                                                  ...   \n",
       "63079  18 October 2023\\n\\nThis comes from a survey of...   \n",
       "63080  18 October 2023\\n\\nThis comes from a survey of...   \n",
       "63081  18 October 2023\\n\\nThis comes from a survey of...   \n",
       "63082  18 October 2023\\n\\nThis comes from a survey of...   \n",
       "63083  18 October 2023\\n\\nThis comes from a survey of...   \n",
       "\n",
       "                                      youtube_link news_language label  \\\n",
       "49590  https://www.youtube.com/watch?v=oqI2M4jBliM            en   NaN   \n",
       "49591  https://www.youtube.com/watch?v=oqI2M4jBliM            en   NaN   \n",
       "49592  https://www.youtube.com/watch?v=oqI2M4jBliM            en   NaN   \n",
       "49593  https://www.youtube.com/watch?v=oqI2M4jBliM            en   NaN   \n",
       "49594  https://www.youtube.com/watch?v=oqI2M4jBliM            en   NaN   \n",
       "...                                            ...           ...   ...   \n",
       "63079  https://www.youtube.com/watch?v=9Y6UA3yil80            en   NaN   \n",
       "63080  https://www.youtube.com/watch?v=9Y6UA3yil80            en   NaN   \n",
       "63081  https://www.youtube.com/watch?v=9Y6UA3yil80            en   NaN   \n",
       "63082  https://www.youtube.com/watch?v=9Y6UA3yil80            en   NaN   \n",
       "63083  https://www.youtube.com/watch?v=9Y6UA3yil80            en   NaN   \n",
       "\n",
       "      all_link  ... video_views video_age_restricted  \\\n",
       "49590      NaN  ...   689808.00                False   \n",
       "49591      NaN  ...   689808.00                False   \n",
       "49592      NaN  ...   689808.00                False   \n",
       "49593      NaN  ...   689808.00                False   \n",
       "49594      NaN  ...   689808.00                False   \n",
       "...        ...  ...         ...                  ...   \n",
       "63079      NaN  ...    13331.00                False   \n",
       "63080      NaN  ...    13331.00                False   \n",
       "63081      NaN  ...    13331.00                False   \n",
       "63082      NaN  ...    13331.00                False   \n",
       "63083      NaN  ...    13331.00                False   \n",
       "\n",
       "                                            CommentsData  \\\n",
       "49590  The world would be a better place with Trump i...   \n",
       "49591  Wow, a POTUS that can speak an entire sentance...   \n",
       "49592  Watching here in Boston as a fan of President ...   \n",
       "49593  I&#39;M a Brit, no way in a hundred  years wou...   \n",
       "49594  Two straight talking men not tiptoeing around ...   \n",
       "...                                                  ...   \n",
       "63079  The nhs has become joke. It should be broken u...   \n",
       "63080  I don’t care----0----2023-09-12T13:19:52Z----4...   \n",
       "63081  Feminist statistics----0----2023-09-12T17:17:2...   \n",
       "63082  Bullying is rife too in the NHS----2----2023-0...   \n",
       "63083  Oh no! Someone lightly touched you or complime...   \n",
       "\n",
       "                                             commentText  replycount  \\\n",
       "49590  The world would be a better place with Trump i...          35   \n",
       "49591  Wow, a POTUS that can speak an entire sentance...         123   \n",
       "49592  Watching here in Boston as a fan of President ...          17   \n",
       "49593  I&#39;M a Brit, no way in a hundred  years wou...          36   \n",
       "49594  Two straight talking men not tiptoeing around ...          12   \n",
       "...                                                  ...         ...   \n",
       "63079  The nhs has become joke. It should be broken u...           1   \n",
       "63080                                       I don’t care           0   \n",
       "63081                                Feminist statistics           0   \n",
       "63082                    Bullying is rife too in the NHS           2   \n",
       "63083  Oh no! Someone lightly touched you or complime...           0   \n",
       "\n",
       "                publishedAt likeCount                     authorDisplayName  \\\n",
       "49590  2023-05-03T22:02:25Z    429.00                           David Crane   \n",
       "49591  2023-05-06T00:16:21Z    836.00                       petercallinicos   \n",
       "49592  2023-05-05T19:27:34Z    150.00  Kitchen Table Issues with Michael D    \n",
       "49593  2023-05-06T19:29:06Z    344.00                               TIC TOC   \n",
       "49594  2023-05-06T14:14:57Z    164.00                              Mr Brown   \n",
       "...                     ...       ...                                   ...   \n",
       "63079  2023-09-15T03:28:51Z      0.00                                John -   \n",
       "63080  2023-09-12T13:19:52Z      4.00                    Abdurahman Mohamed   \n",
       "63081  2023-09-12T17:17:26Z      2.00                            alex smith   \n",
       "63082  2023-09-12T18:18:20Z      1.00                     shane humberstone   \n",
       "63083  2023-09-12T23:46:48Z      1.00                           Finnisbored   \n",
       "\n",
       "      commentText_processed  comment_language  \n",
       "49590                   NaN               NaN  \n",
       "49591                   NaN               NaN  \n",
       "49592                   NaN               NaN  \n",
       "49593                   NaN               NaN  \n",
       "49594                   NaN               NaN  \n",
       "...                     ...               ...  \n",
       "63079                   NaN               NaN  \n",
       "63080                   NaN               NaN  \n",
       "63081                   NaN               NaN  \n",
       "63082                   NaN               NaN  \n",
       "63083                   NaN               NaN  \n",
       "\n",
       "[1175 rows x 31 columns]"
      ]
     },
     "execution_count": 32,
     "metadata": {},
     "output_type": "execute_result"
    }
   ],
   "source": [
    "grouped = df.groupby(\"video_channel_id\")\n",
    "groups = []\n",
    "wanted_groups = []\n",
    "for key, item in grouped:\n",
    "    groups.append(grouped.get_group(key))\n",
    "\n",
    "for g in groups:\n",
    "    if len(g['video_title'].unique()) != 1:\n",
    "        wanted_groups.append(g)\n",
    "\n",
    "wanted_groups[0]"
   ]
  },
  {
   "cell_type": "markdown",
   "metadata": {},
   "source": [
    "We can see that this video appeared on the list with two different titles."
   ]
  },
  {
   "cell_type": "markdown",
   "metadata": {},
   "source": [
    "## How many trending video titles contain capitalized word?\n",
    "\n",
    "Now we want to see how many trending video titles contain at least a capitalized word (e.g. CNN). To do that, we will add a new variable (column) to the dataset whose value is True if the video title has at least a capitalized word in it, and False otherwise"
   ]
  },
  {
   "cell_type": "code",
   "execution_count": 34,
   "metadata": {
    "execution": {
     "iopub.execute_input": "2023-10-28T19:14:27.289028Z",
     "iopub.status.busy": "2023-10-28T19:14:27.288526Z",
     "iopub.status.idle": "2023-10-28T19:14:27.565587Z",
     "shell.execute_reply": "2023-10-28T19:14:27.564419Z",
     "shell.execute_reply.started": "2023-10-28T19:14:27.288992Z"
    }
   },
   "outputs": [
    {
     "data": {
      "image/png": "[encoded data removed]",
      "text/plain": [
       "<Figure size 800x500 with 1 Axes>"
      ]
     },
     "metadata": {},
     "output_type": "display_data"
    }
   ],
   "source": [
    "def contains_capitalized_word(s):\n",
    "    for w in s.split():\n",
    "        if w.isupper():\n",
    "            return True\n",
    "    return False\n",
    "\n",
    "\n",
    "df[\"videotitle_contains_capitalized\"] = df[\"video_title\"].apply(contains_capitalized_word)\n",
    "\n",
    "value_counts = df[\"videotitle_contains_capitalized\"].value_counts().to_dict()\n",
    "fig, ax = plt.subplots()\n",
    "_ = ax.pie([value_counts[False], value_counts[True]], labels=['No', 'Yes'], \n",
    "           colors=['#003f5c', '#ffa600'], textprops={'color': '#040204'}, startangle=45)\n",
    "_ = ax.axis('equal')\n",
    "_ = ax.set_title('Video Title Contains Capitalized Word?')"
   ]
  },
  {
   "cell_type": "code",
   "execution_count": 35,
   "metadata": {
    "execution": {
     "iopub.execute_input": "2023-10-28T19:14:31.255775Z",
     "iopub.status.busy": "2023-10-28T19:14:31.255326Z",
     "iopub.status.idle": "2023-10-28T19:14:31.267346Z",
     "shell.execute_reply": "2023-10-28T19:14:31.265773Z",
     "shell.execute_reply.started": "2023-10-28T19:14:31.255738Z"
    }
   },
   "outputs": [
    {
     "data": {
      "text/plain": [
       "videotitle_contains_capitalized\n",
       "False   0.55\n",
       "True    0.45\n",
       "Name: proportion, dtype: float64"
      ]
     },
     "execution_count": 35,
     "metadata": {},
     "output_type": "execute_result"
    }
   ],
   "source": [
    "df[\"videotitle_contains_capitalized\"].value_counts(normalize=True)"
   ]
  },
  {
   "cell_type": "code",
   "execution_count": 36,
   "metadata": {
    "execution": {
     "iopub.execute_input": "2023-10-28T19:14:33.882244Z",
     "iopub.status.busy": "2023-10-28T19:14:33.881826Z",
     "iopub.status.idle": "2023-10-28T19:14:34.316602Z",
     "shell.execute_reply": "2023-10-28T19:14:34.315425Z",
     "shell.execute_reply.started": "2023-10-28T19:14:33.882211Z"
    }
   },
   "outputs": [
    {
     "data": {
      "image/png": "[encoded data removed]",
      "text/plain": [
       "<Figure size 800x500 with 1 Axes>"
      ]
     },
     "metadata": {},
     "output_type": "display_data"
    }
   ],
   "source": [
    "df[\"title_length\"] = df[\"video_title\"].apply(lambda x: len(x))\n",
    "\n",
    "fig, ax = plt.subplots()\n",
    "_ = sns.distplot(df[\"title_length\"], kde=False, rug=False, \n",
    "                 color=PLOT_COLORS[4], hist_kws={'alpha': 1}, ax=ax)\n",
    "_ = ax.set(xlabel=\"Title Length\", ylabel=\"No. of videos\", xticks=range(0, 110, 10))"
   ]
  },
  {
   "cell_type": "markdown",
   "metadata": {},
   "source": [
    "We can see that title-length distribution resembles a normal distribution, where most videos have title lengths between 30 and 90 character approximately.\n",
    "\n",
    "Now let's draw a scatter plot between title length and number of views to see the relationship between these two variables"
   ]
  },
  {
   "cell_type": "code",
   "execution_count": 37,
   "metadata": {
    "execution": {
     "iopub.execute_input": "2023-10-28T19:14:46.402587Z",
     "iopub.status.busy": "2023-10-28T19:14:46.401453Z",
     "iopub.status.idle": "2023-10-28T19:14:47.009568Z",
     "shell.execute_reply": "2023-10-28T19:14:47.008426Z",
     "shell.execute_reply.started": "2023-10-28T19:14:46.402547Z"
    }
   },
   "outputs": [
    {
     "data": {
      "image/png": "[encoded data removed]",
      "text/plain": [
       "<Figure size 800x500 with 1 Axes>"
      ]
     },
     "metadata": {},
     "output_type": "display_data"
    }
   ],
   "source": [
    "fig, ax = plt.subplots()\n",
    "_ = ax.scatter(x=df['video_views'], y=df['title_length'], color=PLOT_COLORS[2], edgecolors=\"#000000\", linewidths=0.5)\n",
    "_ = ax.set(xlabel=\"Video Views\", ylabel=\"Video Title Length\")"
   ]
  },
  {
   "cell_type": "code",
   "execution_count": 39,
   "metadata": {
    "execution": {
     "iopub.execute_input": "2023-10-28T19:15:12.964525Z",
     "iopub.status.busy": "2023-10-28T19:15:12.964077Z",
     "iopub.status.idle": "2023-10-28T19:15:12.971697Z",
     "shell.execute_reply": "2023-10-28T19:15:12.970781Z",
     "shell.execute_reply.started": "2023-10-28T19:15:12.964487Z"
    }
   },
   "outputs": [
    {
     "data": {
      "text/plain": [
       "Index(['News_ID', 'publish_date', 'Link', 'source_name', 'title', 'text',\n",
       "       'youtube_link', 'news_language', 'label', 'all_link', 'videoId',\n",
       "       'video_url', 'video_title', 'video_author', 'video_length',\n",
       "       'video_channel_id', 'video_channel_url', 'video_description',\n",
       "       'video_publish_date', 'video_rating', 'video_thumbnail_url',\n",
       "       'video_views', 'video_age_restricted', 'CommentsData', 'commentText',\n",
       "       'replycount', 'publishedAt', 'likeCount', 'authorDisplayName',\n",
       "       'commentText_processed', 'comment_language', 'Clean_Comments',\n",
       "       'polarity', 'sentiment', 'videotitle_contains_capitalized',\n",
       "       'title_length'],\n",
       "      dtype='object')"
      ]
     },
     "execution_count": 39,
     "metadata": {},
     "output_type": "execute_result"
    }
   ],
   "source": [
    "#df.corr()\n",
    "df.columns"
   ]
  },
  {
   "cell_type": "code",
   "execution_count": 40,
   "metadata": {
    "execution": {
     "iopub.execute_input": "2023-10-28T19:16:07.605917Z",
     "iopub.status.busy": "2023-10-28T19:16:07.605309Z",
     "iopub.status.idle": "2023-10-28T19:16:24.613168Z",
     "shell.execute_reply": "2023-10-28T19:16:24.612062Z",
     "shell.execute_reply.started": "2023-10-28T19:16:07.605875Z"
    }
   },
   "outputs": [],
   "source": [
    "#Making a new dataframe for further use\n",
    "ndf=df.copy()\n",
    "ndf.to_csv('processed_fakevideo_withcomments.csv', index=False)"
   ]
  },
  {
   "cell_type": "markdown",
   "metadata": {},
   "source": [
    "## Data cleaning"
   ]
  },
  {
   "cell_type": "code",
   "execution_count": null,
   "metadata": {
    "execution": {
     "iopub.execute_input": "2023-10-27T21:37:11.210959Z",
     "iopub.status.busy": "2023-10-27T21:37:11.210533Z",
     "iopub.status.idle": "2023-10-27T21:37:11.217138Z",
     "shell.execute_reply": "2023-10-27T21:37:11.216375Z",
     "shell.execute_reply.started": "2023-10-27T21:37:11.210924Z"
    }
   },
   "outputs": [],
   "source": [
    "df.shape"
   ]
  },
  {
   "cell_type": "code",
   "execution_count": null,
   "metadata": {},
   "outputs": [],
   "source": [
    "df[\"video_description\"] = df[\"video_description\"].fillna(value=\"\")\n",
    "df[\"video_rating\"] = df[\"video_rating\"].fillna(value=\"\")"
   ]
  }
 ],
 "metadata": {
  "kernelspec": {
   "display_name": "Python 3",
   "language": "python",
   "name": "python3"
  },
  "language_info": {
   "codemirror_mode": {
    "name": "ipython",
    "version": 3
   },
   "file_extension": ".py",
   "mimetype": "text/x-python",
   "name": "python",
   "nbconvert_exporter": "python",
   "pygments_lexer": "ipython3",
   "version": "3.8.5"
  }
 },
 "nbformat": 4,
 "nbformat_minor": 4
}
